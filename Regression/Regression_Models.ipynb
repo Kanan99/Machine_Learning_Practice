{
  "nbformat": 4,
  "nbformat_minor": 0,
  "metadata": {
    "colab": {
      "name": "Regression Models.ipynb",
      "provenance": []
    },
    "kernelspec": {
      "name": "python3",
      "display_name": "Python 3"
    },
    "language_info": {
      "name": "python"
    }
  },
  "cells": [
    {
      "cell_type": "code",
      "execution_count": 1,
      "metadata": {
        "id": "vU3mZNmQ3rU4",
        "cellView": "form"
      },
      "outputs": [],
      "source": [
        "#@title Preparing the data\n",
        "# Load the libraries\n",
        "import numpy as np\n",
        "import matplotlib.pyplot as plt\n",
        "import pandas as pd\n",
        "from sklearn.metrics import r2_score\n",
        "\n",
        "# Load the data\n",
        "df = pd.read_csv('/content/Data.csv')\n",
        "X = df.iloc[:, :-1].values\n",
        "y = df.iloc[:, -1].values\n",
        "\n",
        "# Splitting the dataset into the Training set and Test set\n",
        "from sklearn.model_selection import train_test_split\n",
        "X_train, X_test, y_train, y_test = train_test_split(X, y, test_size = 0.2, random_state = 0)"
      ]
    },
    {
      "cell_type": "code",
      "source": [
        "#@title Multiple Linear Regression\n",
        "\n",
        "# Training the Multiple Linear Regression model on the Training set\n",
        "from sklearn.linear_model import LinearRegression\n",
        "regressor_mlr = LinearRegression()\n",
        "regressor_mlr.fit(X_train, y_train)\n",
        "\n",
        "# Predicting the Test set results\n",
        "y_pred = regressor_mlr.predict(X_test)\n",
        "\n",
        "# Evaluating the Model Performance\n",
        "mlr_score = r2_score(y_test, y_pred)"
      ],
      "metadata": {
        "cellView": "form",
        "id": "JA6AnQAp7Gf_"
      },
      "execution_count": 2,
      "outputs": []
    },
    {
      "cell_type": "code",
      "source": [
        "#@title Polynomial Regression\n",
        "# Training the Polynomial Regression model on the Training set\n",
        "from sklearn.preprocessing import PolynomialFeatures\n",
        "from sklearn.linear_model import LinearRegression\n",
        "poly_reg = PolynomialFeatures(degree = 4)\n",
        "X_poly = poly_reg.fit_transform(X_train)\n",
        "regressor_pr = LinearRegression()\n",
        "regressor_pr.fit(X_poly, y_train)\n",
        "\n",
        "# Predicting the Test set results\n",
        "y_pred = regressor_pr.predict(poly_reg.transform(X_test))\n",
        "\n",
        "# Evaluating the Model Performance\n",
        "pr_score = r2_score(y_test, y_pred)"
      ],
      "metadata": {
        "cellView": "form",
        "id": "APETK34g74Kt"
      },
      "execution_count": 3,
      "outputs": []
    },
    {
      "cell_type": "code",
      "source": [
        "#@title Support Vector Regression\n",
        "# Feature Scaling\n",
        "from sklearn.preprocessing import StandardScaler\n",
        "sc_X = StandardScaler()\n",
        "sc_y = StandardScaler()\n",
        "X_train_sc = sc_X.fit_transform(X_train)\n",
        "y_train_sc = sc_y.fit_transform(y_train.reshape(-1, 1))\n",
        "\n",
        "# Training the SVR model on the Training set\n",
        "from sklearn.svm import SVR\n",
        "regressor_svr = SVR(kernel = 'rbf')\n",
        "regressor_svr.fit(X_train_sc, y_train_sc)\n",
        "\n",
        "# Predicting the Test set results\n",
        "y_pred = sc_y.inverse_transform(regressor_svr.predict(sc_X.transform(X_test)).reshape(-1, 1))\n",
        "\n",
        "# Evaluating the Model Performance\n",
        "svr_score = r2_score(y_test, y_pred)"
      ],
      "metadata": {
        "cellView": "form",
        "id": "WzGTyfMd8SOI"
      },
      "execution_count": null,
      "outputs": []
    },
    {
      "cell_type": "code",
      "source": [
        "#@title Decision Tree Regression\n",
        "# Training the Decision Tree Regression model on the Training set\n",
        "from sklearn.tree import DecisionTreeRegressor\n",
        "regressor_dtr = DecisionTreeRegressor(random_state = 0)\n",
        "regressor_dtr.fit(X_train, y_train)\n",
        "\n",
        "# Predicting the Test set results\n",
        "y_pred = regressor_dtr.predict(X_test)\n",
        "\n",
        "# Evaluating the Model Performance\n",
        "dtr_score = r2_score(y_test, y_pred)"
      ],
      "metadata": {
        "id": "V5A7VQ0Q9IIm",
        "cellView": "form"
      },
      "execution_count": 5,
      "outputs": []
    },
    {
      "cell_type": "code",
      "source": [
        "#@title Random Forest Regression\n",
        "# Training the Random Forest Regression model on the Training set\n",
        "from sklearn.ensemble import RandomForestRegressor\n",
        "regressor_rfr = RandomForestRegressor(n_estimators = 10, random_state = 0)\n",
        "regressor_rfr.fit(X_train, y_train)\n",
        "\n",
        "# Predicting the Test set results\n",
        "y_pred = regressor_rfr.predict(X_test)\n",
        "\n",
        "# Evaluating the Model Performance\n",
        "rfr_score = r2_score(y_test, y_pred)"
      ],
      "metadata": {
        "id": "C_vWLZSe9ZEv",
        "cellView": "form"
      },
      "execution_count": 6,
      "outputs": []
    },
    {
      "cell_type": "code",
      "source": [
        "#@title Results\n",
        "scores = np.array([mlr_score, pr_score, svr_score, dtr_score, rfr_score])\n",
        "result = pd.DataFrame(data = scores,\n",
        "                      columns = ['R-squared score'],\n",
        "                      index = ['MLR', 'PR', 'SVR', 'DTR', 'RFR'])\n",
        "result.style"
      ],
      "metadata": {
        "colab": {
          "base_uri": "https://localhost:8080/",
          "height": 206
        },
        "cellView": "form",
        "id": "ijTcvIPt9vF6",
        "outputId": "bbf6a337-84b2-4fd9-de39-2737cea68841"
      },
      "execution_count": 7,
      "outputs": [
        {
          "output_type": "execute_result",
          "data": {
            "text/plain": [
              "<pandas.io.formats.style.Styler at 0x7f3456bd88d0>"
            ],
            "text/html": [
              "<style type=\"text/css\">\n",
              "</style>\n",
              "<table id=\"T_54c25_\" class=\"dataframe\">\n",
              "  <thead>\n",
              "    <tr>\n",
              "      <th class=\"blank level0\" >&nbsp;</th>\n",
              "      <th class=\"col_heading level0 col0\" >R-squared score</th>\n",
              "    </tr>\n",
              "  </thead>\n",
              "  <tbody>\n",
              "    <tr>\n",
              "      <th id=\"T_54c25_level0_row0\" class=\"row_heading level0 row0\" >MLR</th>\n",
              "      <td id=\"T_54c25_row0_col0\" class=\"data row0 col0\" >0.932532</td>\n",
              "    </tr>\n",
              "    <tr>\n",
              "      <th id=\"T_54c25_level0_row1\" class=\"row_heading level0 row1\" >PR</th>\n",
              "      <td id=\"T_54c25_row1_col0\" class=\"data row1 col0\" >0.945819</td>\n",
              "    </tr>\n",
              "    <tr>\n",
              "      <th id=\"T_54c25_level0_row2\" class=\"row_heading level0 row2\" >SVR</th>\n",
              "      <td id=\"T_54c25_row2_col0\" class=\"data row2 col0\" >0.948078</td>\n",
              "    </tr>\n",
              "    <tr>\n",
              "      <th id=\"T_54c25_level0_row3\" class=\"row_heading level0 row3\" >DTR</th>\n",
              "      <td id=\"T_54c25_row3_col0\" class=\"data row3 col0\" >0.922906</td>\n",
              "    </tr>\n",
              "    <tr>\n",
              "      <th id=\"T_54c25_level0_row4\" class=\"row_heading level0 row4\" >RFR</th>\n",
              "      <td id=\"T_54c25_row4_col0\" class=\"data row4 col0\" >0.961591</td>\n",
              "    </tr>\n",
              "  </tbody>\n",
              "</table>\n"
            ]
          },
          "metadata": {},
          "execution_count": 7
        }
      ]
    }
  ]
}