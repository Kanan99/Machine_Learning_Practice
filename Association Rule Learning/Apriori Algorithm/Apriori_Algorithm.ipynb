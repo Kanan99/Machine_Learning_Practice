{
  "nbformat": 4,
  "nbformat_minor": 0,
  "metadata": {
    "colab": {
      "name": "Apriori Algorithm.ipynb",
      "provenance": [],
      "collapsed_sections": []
    },
    "kernelspec": {
      "name": "python3",
      "display_name": "Python 3"
    },
    "language_info": {
      "name": "python"
    }
  },
  "cells": [
    {
      "cell_type": "code",
      "execution_count": null,
      "metadata": {
        "cellView": "form",
        "id": "hth09MAPQqyS"
      },
      "outputs": [],
      "source": [
        "#@title Installing packages\n",
        "!pip install apyori"
      ]
    },
    {
      "cell_type": "code",
      "source": [
        "#@title Preparing the data\n",
        "#Importing libraries\n",
        "import pandas as pd\n",
        "import numpy as np\n",
        "\n",
        "# Load the data\n",
        "df = pd.read_csv('Data.csv', header = None) # No columns\n",
        "\n",
        "# Preparing the data for apyori as list\n",
        "shopping_list = []\n",
        "for i in range(df.shape[0]):\n",
        "  shopping_list.append([str(product) for product in df.iloc[i, :]])"
      ],
      "metadata": {
        "cellView": "form",
        "id": "cmaXY4WIRHei"
      },
      "execution_count": 2,
      "outputs": []
    },
    {
      "cell_type": "code",
      "source": [
        "#@title Training the Apriori model\n",
        "from apyori import apriori\n",
        "\"\"\"\n",
        "min_support = 3*7 / 7501 # A product is sold at least 3 times per day\n",
        "min_confidence = 0.2, starts from 0.8 --> no rule, 0.4 --> a few, 0.2 --> good!\n",
        "min_lift = 3 from experience for relevant rules\n",
        "min_length and max_length for the amount of products = 2 for \"Buy 1 Get 1 Free\"   \n",
        "\"\"\"\n",
        "# apriori model returns a list of rules\n",
        "rules = apriori(transactions = shopping_list, min_support = 0.003, \n",
        "                min_confidence = 0.2, \n",
        "                min_lift = 3,\n",
        "                min_length = 2,\n",
        "                max_length = 2)"
      ],
      "metadata": {
        "cellView": "form",
        "id": "jD2s1pDCRzDt"
      },
      "execution_count": 3,
      "outputs": []
    },
    {
      "cell_type": "code",
      "source": [
        "#@title Results\n",
        "def inspect(rules):\n",
        "  \"\"\"\n",
        "  Takes rules as a list of return object of apriori model (generator),\n",
        "  Returns a pandas DataFrame object for decent illustration and \n",
        "  sorted final rules by descending lift values.  \n",
        "  \"\"\"\n",
        "  # Separate the columns\n",
        "  lhs         = [tuple(r[2][0][0])[0] for r in rules]\n",
        "  rhs         = [tuple(r[2][0][1])[0] for r in rules]\n",
        "  supports    = [r[1] for r in rules]\n",
        "  confidences = [r[2][0][2] for r in rules]\n",
        "  lifts       = [r[2][0][3] for r in rules]\n",
        "  # Collect the columns in one result\n",
        "  result = list(zip(lhs, rhs, supports, confidences, lifts))\n",
        "  # Convert to pandas DataFrame\n",
        "  result = pd.DataFrame(result, columns = ['Left Hand Side', \n",
        "                                           'Right Hand Side', \n",
        "                                           'Support', \n",
        "                                           'Confidence', \n",
        "                                           'Lift'])\n",
        "  return result.nlargest(n=10, columns='Lift')\n",
        "\n",
        "final_rules = inspect(list(rules))\n",
        "final_rules.style\n"
      ],
      "metadata": {
        "colab": {
          "base_uri": "https://localhost:8080/",
          "height": 331
        },
        "cellView": "form",
        "id": "15YCEt1tSbIx",
        "outputId": "fcdc2c7a-3a7c-44c3-8502-2e11fcf7f566"
      },
      "execution_count": 4,
      "outputs": [
        {
          "output_type": "execute_result",
          "data": {
            "text/plain": [
              "<pandas.io.formats.style.Styler at 0x7f2ee164c550>"
            ],
            "text/html": [
              "<style type=\"text/css\">\n",
              "</style>\n",
              "<table id=\"T_767c9_\" class=\"dataframe\">\n",
              "  <thead>\n",
              "    <tr>\n",
              "      <th class=\"blank level0\" >&nbsp;</th>\n",
              "      <th class=\"col_heading level0 col0\" >Left Hand Side</th>\n",
              "      <th class=\"col_heading level0 col1\" >Right Hand Side</th>\n",
              "      <th class=\"col_heading level0 col2\" >Support</th>\n",
              "      <th class=\"col_heading level0 col3\" >Confidence</th>\n",
              "      <th class=\"col_heading level0 col4\" >Lift</th>\n",
              "    </tr>\n",
              "  </thead>\n",
              "  <tbody>\n",
              "    <tr>\n",
              "      <th id=\"T_767c9_level0_row0\" class=\"row_heading level0 row0\" >3</th>\n",
              "      <td id=\"T_767c9_row0_col0\" class=\"data row0 col0\" >fromage blanc</td>\n",
              "      <td id=\"T_767c9_row0_col1\" class=\"data row0 col1\" >honey</td>\n",
              "      <td id=\"T_767c9_row0_col2\" class=\"data row0 col2\" >0.003333</td>\n",
              "      <td id=\"T_767c9_row0_col3\" class=\"data row0 col3\" >0.245098</td>\n",
              "      <td id=\"T_767c9_row0_col4\" class=\"data row0 col4\" >5.164271</td>\n",
              "    </tr>\n",
              "    <tr>\n",
              "      <th id=\"T_767c9_level0_row1\" class=\"row_heading level0 row1\" >0</th>\n",
              "      <td id=\"T_767c9_row1_col0\" class=\"data row1 col0\" >light cream</td>\n",
              "      <td id=\"T_767c9_row1_col1\" class=\"data row1 col1\" >chicken</td>\n",
              "      <td id=\"T_767c9_row1_col2\" class=\"data row1 col2\" >0.004533</td>\n",
              "      <td id=\"T_767c9_row1_col3\" class=\"data row1 col3\" >0.290598</td>\n",
              "      <td id=\"T_767c9_row1_col4\" class=\"data row1 col4\" >4.843951</td>\n",
              "    </tr>\n",
              "    <tr>\n",
              "      <th id=\"T_767c9_level0_row2\" class=\"row_heading level0 row2\" >2</th>\n",
              "      <td id=\"T_767c9_row2_col0\" class=\"data row2 col0\" >pasta</td>\n",
              "      <td id=\"T_767c9_row2_col1\" class=\"data row2 col1\" >escalope</td>\n",
              "      <td id=\"T_767c9_row2_col2\" class=\"data row2 col2\" >0.005866</td>\n",
              "      <td id=\"T_767c9_row2_col3\" class=\"data row2 col3\" >0.372881</td>\n",
              "      <td id=\"T_767c9_row2_col4\" class=\"data row2 col4\" >4.700812</td>\n",
              "    </tr>\n",
              "    <tr>\n",
              "      <th id=\"T_767c9_level0_row3\" class=\"row_heading level0 row3\" >8</th>\n",
              "      <td id=\"T_767c9_row3_col0\" class=\"data row3 col0\" >pasta</td>\n",
              "      <td id=\"T_767c9_row3_col1\" class=\"data row3 col1\" >shrimp</td>\n",
              "      <td id=\"T_767c9_row3_col2\" class=\"data row3 col2\" >0.005066</td>\n",
              "      <td id=\"T_767c9_row3_col3\" class=\"data row3 col3\" >0.322034</td>\n",
              "      <td id=\"T_767c9_row3_col4\" class=\"data row3 col4\" >4.506672</td>\n",
              "    </tr>\n",
              "    <tr>\n",
              "      <th id=\"T_767c9_level0_row4\" class=\"row_heading level0 row4\" >7</th>\n",
              "      <td id=\"T_767c9_row4_col0\" class=\"data row4 col0\" >whole wheat pasta</td>\n",
              "      <td id=\"T_767c9_row4_col1\" class=\"data row4 col1\" >olive oil</td>\n",
              "      <td id=\"T_767c9_row4_col2\" class=\"data row4 col2\" >0.007999</td>\n",
              "      <td id=\"T_767c9_row4_col3\" class=\"data row4 col3\" >0.271493</td>\n",
              "      <td id=\"T_767c9_row4_col4\" class=\"data row4 col4\" >4.122410</td>\n",
              "    </tr>\n",
              "    <tr>\n",
              "      <th id=\"T_767c9_level0_row5\" class=\"row_heading level0 row5\" >5</th>\n",
              "      <td id=\"T_767c9_row5_col0\" class=\"data row5 col0\" >tomato sauce</td>\n",
              "      <td id=\"T_767c9_row5_col1\" class=\"data row5 col1\" >ground beef</td>\n",
              "      <td id=\"T_767c9_row5_col2\" class=\"data row5 col2\" >0.005333</td>\n",
              "      <td id=\"T_767c9_row5_col3\" class=\"data row5 col3\" >0.377358</td>\n",
              "      <td id=\"T_767c9_row5_col4\" class=\"data row5 col4\" >3.840659</td>\n",
              "    </tr>\n",
              "    <tr>\n",
              "      <th id=\"T_767c9_level0_row6\" class=\"row_heading level0 row6\" >1</th>\n",
              "      <td id=\"T_767c9_row6_col0\" class=\"data row6 col0\" >mushroom cream sauce</td>\n",
              "      <td id=\"T_767c9_row6_col1\" class=\"data row6 col1\" >escalope</td>\n",
              "      <td id=\"T_767c9_row6_col2\" class=\"data row6 col2\" >0.005733</td>\n",
              "      <td id=\"T_767c9_row6_col3\" class=\"data row6 col3\" >0.300699</td>\n",
              "      <td id=\"T_767c9_row6_col4\" class=\"data row6 col4\" >3.790833</td>\n",
              "    </tr>\n",
              "    <tr>\n",
              "      <th id=\"T_767c9_level0_row7\" class=\"row_heading level0 row7\" >4</th>\n",
              "      <td id=\"T_767c9_row7_col0\" class=\"data row7 col0\" >herb & pepper</td>\n",
              "      <td id=\"T_767c9_row7_col1\" class=\"data row7 col1\" >ground beef</td>\n",
              "      <td id=\"T_767c9_row7_col2\" class=\"data row7 col2\" >0.015998</td>\n",
              "      <td id=\"T_767c9_row7_col3\" class=\"data row7 col3\" >0.323450</td>\n",
              "      <td id=\"T_767c9_row7_col4\" class=\"data row7 col4\" >3.291994</td>\n",
              "    </tr>\n",
              "    <tr>\n",
              "      <th id=\"T_767c9_level0_row8\" class=\"row_heading level0 row8\" >6</th>\n",
              "      <td id=\"T_767c9_row8_col0\" class=\"data row8 col0\" >light cream</td>\n",
              "      <td id=\"T_767c9_row8_col1\" class=\"data row8 col1\" >olive oil</td>\n",
              "      <td id=\"T_767c9_row8_col2\" class=\"data row8 col2\" >0.003200</td>\n",
              "      <td id=\"T_767c9_row8_col3\" class=\"data row8 col3\" >0.205128</td>\n",
              "      <td id=\"T_767c9_row8_col4\" class=\"data row8 col4\" >3.114710</td>\n",
              "    </tr>\n",
              "  </tbody>\n",
              "</table>\n"
            ]
          },
          "metadata": {},
          "execution_count": 4
        }
      ]
    }
  ]
}