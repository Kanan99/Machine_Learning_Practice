{
 "cells": [
  {
   "cell_type": "code",
   "execution_count": 1,
   "metadata": {
    "cellView": "form",
    "id": "vU3mZNmQ3rU4"
   },
   "outputs": [],
   "source": [
    "#@title Preparing the data\n",
    "# Load the libraries\n",
    "import pandas as pd\n",
    "pd.set_option('display.precision', 4)\n",
    "import tensorflow as tf\n",
    "# Machine Learning libraries\n",
    "from sklearn.preprocessing import StandardScaler \n",
    "from sklearn.metrics import r2_score\n",
    "from sklearn.linear_model import LinearRegression\n",
    "from sklearn.preprocessing import PolynomialFeatures\n",
    "from sklearn.svm import SVR\n",
    "from sklearn.tree import DecisionTreeRegressor\n",
    "from sklearn.ensemble import RandomForestRegressor\n",
    "# Load the data \n",
    "# [https://archive.ics.uci.edu/ml/machine-learning-databases/00294/CCPP.zip]\n",
    "df = pd.read_excel('Data.xlsx')\n",
    "X = df.iloc[:, :-1].values\n",
    "y = df.iloc[:, -1].values\n",
    "\n",
    "# Splitting the dataset into the Training set and Test set\n",
    "from sklearn.model_selection import train_test_split\n",
    "X_train, X_test, y_train, y_test = train_test_split(X, y, \n",
    "                                                    test_size = 0.25, \n",
    "                                                    random_state = 42)\n",
    "\n",
    "# For Polynomial Regression\n",
    "poly_reg = PolynomialFeatures(degree = 4)\n",
    "X_train_poly = poly_reg.fit_transform(X_train)\n",
    "X_test_poly = poly_reg.transform(X_test)\n",
    "\n",
    "# For Support Vector Regression\n",
    "sc_X = StandardScaler()\n",
    "sc_y = StandardScaler()\n",
    "X_train_sc = sc_X.fit_transform(X_train)\n",
    "y_train_sc = sc_y.fit_transform(y_train.reshape(-1, 1))\n",
    "X_test_sc = sc_X.transform(X_test)\n",
    "\n",
    "# Save the R2 scores of models\n",
    "scores = {} "
   ]
  },
  {
   "cell_type": "code",
   "execution_count": 2,
   "metadata": {
    "cellView": "form",
    "id": "2Ef581qa5pG4"
   },
   "outputs": [],
   "source": [
    "#@title Regression Models\n",
    "def regressors():\n",
    "  reg = {\n",
    "      'Multiple Linear Regression' : LinearRegression(),\n",
    "      'Polynomial Regression' : LinearRegression(),\n",
    "      'Support Vector Regression' : SVR(kernel = 'rbf'),\n",
    "      'Decision Tree Regression' : DecisionTreeRegressor(random_state = 42),\n",
    "      'Random Forest Regression' : RandomForestRegressor(n_estimators = 10, \n",
    "                                                         random_state = 0),\n",
    "  }\n",
    "  return reg\n",
    "\n",
    "# Training the Regression Models\n",
    "models = regressors()\n",
    "for name, model in models.items():\n",
    "  if name == 'Polynomial Regression':\n",
    "    model.fit(X_train_poly, y_train)\n",
    "    y_pred = model.predict(X_test_poly)\n",
    "    scores[name] = r2_score(y_test, y_pred)\n",
    "  elif name == 'Support Vector Regression':\n",
    "    model.fit(X_train_sc, y_train_sc.ravel())\n",
    "    y_pred = sc_y.inverse_transform(model.predict(X_test_sc).reshape(-1, 1))\n",
    "    scores[name] = r2_score(y_test, y_pred)\n",
    "  else:\n",
    "    model.fit(X_train, y_train)\n",
    "    y_pred = model.predict(X_test)\n",
    "    scores[name] = r2_score(y_test, y_pred)"
   ]
  },
  {
   "cell_type": "code",
   "execution_count": 3,
   "metadata": {
    "cellView": "form",
    "id": "PpBS7BS39V8Z"
   },
   "outputs": [],
   "source": [
    "#@title Artificial Neural Network Model\n",
    "def build_ann():\n",
    "  \"\"\"\n",
    "  Builds a Artificial Neural Network as\n",
    "  (I) Initializing a Sequential model,\n",
    "  (II) 2 Hidden layers with 32 units,\n",
    "  (II) Output layer with 1 output,\n",
    "  (VI) Compiles the model with Adam optimizer \n",
    "       and mean_squared_error loss function.\n",
    "  returns the built model\n",
    "  \"\"\"\n",
    "  model = tf.keras.models.Sequential()\n",
    "  model.add(tf.keras.layers.Dense(32, activation = 'relu'))\n",
    "  model.add(tf.keras.layers.Dense(32, activation = 'relu'))\n",
    "  model.add(tf.keras.layers.Dense(1)) # For regression, activation = None\n",
    "  model.compile(optimizer = 'adam', loss = 'mean_squared_error')\n",
    "  return model\n",
    "\n",
    "# Training the ANN\n",
    "ann = build_ann()\n",
    "ann.fit(X_train, y_train, batch_size = 32, epochs = 100,\n",
    "        validation_data = (X_test, y_test), verbose = 0)\n",
    "y_pred = ann.predict(X_test)\n",
    "scores['Artificial Neural Network'] = r2_score(y_test, y_pred)"
   ]
  },
  {
   "cell_type": "code",
   "execution_count": 4,
   "metadata": {
    "cellView": "form",
    "colab": {
     "base_uri": "https://localhost:8080/",
     "height": 237
    },
    "id": "ijTcvIPt9vF6",
    "outputId": "8333cff2-0bad-4dd1-8b9c-1af19a9337df"
   },
   "outputs": [
    {
     "data": {
      "text/html": [
       "<style  type=\"text/css\" >\n",
       "</style><table id=\"T_b613e_\" ><thead>    <tr>        <th class=\"blank level0\" ></th>        <th class=\"col_heading level0 col0\" >R-squared score</th>    </tr></thead><tbody>\n",
       "                <tr>\n",
       "                        <th id=\"T_b613e_level0_row0\" class=\"row_heading level0 row0\" >Multiple Linear Regression</th>\n",
       "                        <td id=\"T_b613e_row0_col0\" class=\"data row0 col0\" >0.9292</td>\n",
       "            </tr>\n",
       "            <tr>\n",
       "                        <th id=\"T_b613e_level0_row1\" class=\"row_heading level0 row1\" >Polynomial Regression</th>\n",
       "                        <td id=\"T_b613e_row1_col0\" class=\"data row1 col0\" >0.9418</td>\n",
       "            </tr>\n",
       "            <tr>\n",
       "                        <th id=\"T_b613e_level0_row2\" class=\"row_heading level0 row2\" >Support Vector Regression</th>\n",
       "                        <td id=\"T_b613e_row2_col0\" class=\"data row2 col0\" >0.9447</td>\n",
       "            </tr>\n",
       "            <tr>\n",
       "                        <th id=\"T_b613e_level0_row3\" class=\"row_heading level0 row3\" >Decision Tree Regression</th>\n",
       "                        <td id=\"T_b613e_row3_col0\" class=\"data row3 col0\" >0.9301</td>\n",
       "            </tr>\n",
       "            <tr>\n",
       "                        <th id=\"T_b613e_level0_row4\" class=\"row_heading level0 row4\" >Random Forest Regression</th>\n",
       "                        <td id=\"T_b613e_row4_col0\" class=\"data row4 col0\" >0.9582</td>\n",
       "            </tr>\n",
       "            <tr>\n",
       "                        <th id=\"T_b613e_level0_row5\" class=\"row_heading level0 row5\" >Artificial Neural Network</th>\n",
       "                        <td id=\"T_b613e_row5_col0\" class=\"data row5 col0\" >0.9072</td>\n",
       "            </tr>\n",
       "    </tbody></table>"
      ],
      "text/plain": [
       "<pandas.io.formats.style.Styler at 0x2562e6f2b50>"
      ]
     },
     "execution_count": 4,
     "metadata": {},
     "output_type": "execute_result"
    }
   ],
   "source": [
    "#@title Results\n",
    "result = pd.DataFrame(data = scores.values(),\n",
    "                      columns = ['R-squared score'],\n",
    "                      index = scores.keys())\n",
    "result.style"
   ]
  }
 ],
 "metadata": {
  "colab": {
   "collapsed_sections": [],
   "name": "Combined Cycle Power Plant Data: ANN and  Regression Models comparison.ipynb",
   "provenance": []
  },
  "kernelspec": {
   "display_name": "Python 3",
   "language": "python",
   "name": "python3"
  },
  "language_info": {
   "codemirror_mode": {
    "name": "ipython",
    "version": 3
   },
   "file_extension": ".py",
   "mimetype": "text/x-python",
   "name": "python",
   "nbconvert_exporter": "python",
   "pygments_lexer": "ipython3",
   "version": "3.9.12"
  }
 },
 "nbformat": 4,
 "nbformat_minor": 1
}
