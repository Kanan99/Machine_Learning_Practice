{
 "cells": [
  {
   "cell_type": "markdown",
   "id": "733f93ab",
   "metadata": {},
   "source": [
    "# Auto-Encoders for Movie Recommendation System\n",
    "During this project, we will use the [dataset](https://grouplens.org/datasets/movielens/latest/) of 600 users and 9000 movies with 100000 ratings from Grouplens for a movie recommendation system. The designed stacked Auto-Encoder will determine the ratings of user. "
   ]
  },
  {
   "cell_type": "markdown",
   "id": "577827c8",
   "metadata": {},
   "source": [
    "## Preparing the data"
   ]
  },
  {
   "cell_type": "code",
   "execution_count": 1,
   "id": "443561de",
   "metadata": {},
   "outputs": [],
   "source": [
    "# Importing the libraries\n",
    "import numpy as np\n",
    "import pandas as pd\n",
    "import matplotlib.pyplot as plt\n",
    "import torch\n",
    "if torch.cuda.is_available():\n",
    "    torch.set_default_tensor_type('torch.cuda.FloatTensor') # To use GPU on pytorch\n",
    "    device = 'cuda'\n",
    "else:\n",
    "    device = 'cpu'\n",
    "import torch.nn as nn\n",
    "import torch.optim as optim\n",
    "from torch.autograd import Variable"
   ]
  },
  {
   "cell_type": "code",
   "execution_count": 2,
   "id": "fc22a6b6",
   "metadata": {
    "scrolled": true
   },
   "outputs": [
    {
     "name": "stdout",
     "output_type": "stream",
     "text": [
      "Archive:  ml-latest-small.zip\n",
      "   creating: ml-latest-small/\n",
      "  inflating: ml-latest-small/links.csv  \n",
      "  inflating: ml-latest-small/tags.csv  \n",
      "  inflating: ml-latest-small/ratings.csv  \n",
      "  inflating: ml-latest-small/README.txt  \n",
      "  inflating: ml-latest-small/movies.csv  \n"
     ]
    }
   ],
   "source": [
    "# Download the files\n",
    "!wget -q \"https://files.grouplens.org/datasets/movielens/ml-latest-small.zip\"\n",
    "!unzip ml-latest-small.zip\n",
    "!del ml-latest-small.zip"
   ]
  },
  {
   "cell_type": "code",
   "execution_count": 3,
   "id": "7dc5cfd4",
   "metadata": {
    "scrolled": true
   },
   "outputs": [
    {
     "data": {
      "text/html": [
       "<div>\n",
       "<style scoped>\n",
       "    .dataframe tbody tr th:only-of-type {\n",
       "        vertical-align: middle;\n",
       "    }\n",
       "\n",
       "    .dataframe tbody tr th {\n",
       "        vertical-align: top;\n",
       "    }\n",
       "\n",
       "    .dataframe thead th {\n",
       "        text-align: right;\n",
       "    }\n",
       "</style>\n",
       "<table border=\"1\" class=\"dataframe\">\n",
       "  <thead>\n",
       "    <tr style=\"text-align: right;\">\n",
       "      <th></th>\n",
       "      <th>userId</th>\n",
       "      <th>movieId</th>\n",
       "      <th>rating</th>\n",
       "    </tr>\n",
       "  </thead>\n",
       "  <tbody>\n",
       "    <tr>\n",
       "      <th>0</th>\n",
       "      <td>1</td>\n",
       "      <td>1</td>\n",
       "      <td>4.0</td>\n",
       "    </tr>\n",
       "    <tr>\n",
       "      <th>1</th>\n",
       "      <td>1</td>\n",
       "      <td>3</td>\n",
       "      <td>4.0</td>\n",
       "    </tr>\n",
       "    <tr>\n",
       "      <th>2</th>\n",
       "      <td>1</td>\n",
       "      <td>6</td>\n",
       "      <td>4.0</td>\n",
       "    </tr>\n",
       "    <tr>\n",
       "      <th>3</th>\n",
       "      <td>1</td>\n",
       "      <td>47</td>\n",
       "      <td>5.0</td>\n",
       "    </tr>\n",
       "    <tr>\n",
       "      <th>4</th>\n",
       "      <td>1</td>\n",
       "      <td>50</td>\n",
       "      <td>5.0</td>\n",
       "    </tr>\n",
       "    <tr>\n",
       "      <th>5</th>\n",
       "      <td>1</td>\n",
       "      <td>70</td>\n",
       "      <td>3.0</td>\n",
       "    </tr>\n",
       "    <tr>\n",
       "      <th>6</th>\n",
       "      <td>1</td>\n",
       "      <td>101</td>\n",
       "      <td>5.0</td>\n",
       "    </tr>\n",
       "    <tr>\n",
       "      <th>7</th>\n",
       "      <td>1</td>\n",
       "      <td>110</td>\n",
       "      <td>4.0</td>\n",
       "    </tr>\n",
       "    <tr>\n",
       "      <th>8</th>\n",
       "      <td>1</td>\n",
       "      <td>151</td>\n",
       "      <td>5.0</td>\n",
       "    </tr>\n",
       "    <tr>\n",
       "      <th>9</th>\n",
       "      <td>1</td>\n",
       "      <td>157</td>\n",
       "      <td>5.0</td>\n",
       "    </tr>\n",
       "  </tbody>\n",
       "</table>\n",
       "</div>"
      ],
      "text/plain": [
       "   userId  movieId  rating\n",
       "0       1        1     4.0\n",
       "1       1        3     4.0\n",
       "2       1        6     4.0\n",
       "3       1       47     5.0\n",
       "4       1       50     5.0\n",
       "5       1       70     3.0\n",
       "6       1      101     5.0\n",
       "7       1      110     4.0\n",
       "8       1      151     5.0\n",
       "9       1      157     5.0"
      ]
     },
     "execution_count": 3,
     "metadata": {},
     "output_type": "execute_result"
    }
   ],
   "source": [
    "ratings = pd.read_csv('ml-latest-small/ratings.csv').drop(columns = ['timestamp'])\n",
    "ratings.head(10)"
   ]
  },
  {
   "cell_type": "markdown",
   "id": "5910f708",
   "metadata": {},
   "source": [
    "### Reduce memory usage of the data\n",
    "Below given approach will reduce ratings' data memory usage from 2.3 MB to 886.4 KB"
   ]
  },
  {
   "cell_type": "code",
   "execution_count": 4,
   "id": "c5080173",
   "metadata": {
    "scrolled": false
   },
   "outputs": [
    {
     "name": "stdout",
     "output_type": "stream",
     "text": [
      "<class 'pandas.core.frame.DataFrame'>\n",
      "RangeIndex: 100836 entries, 0 to 100835\n",
      "Data columns (total 3 columns):\n",
      " #   Column   Non-Null Count   Dtype  \n",
      "---  ------   --------------   -----  \n",
      " 0   userId   100836 non-null  int64  \n",
      " 1   movieId  100836 non-null  int64  \n",
      " 2   rating   100836 non-null  float64\n",
      "dtypes: float64(1), int64(2)\n",
      "memory usage: 2.3 MB\n"
     ]
    }
   ],
   "source": [
    "ratings.info(memory_usage = 'deep')"
   ]
  },
  {
   "cell_type": "code",
   "execution_count": 5,
   "id": "e6a89102",
   "metadata": {
    "scrolled": true
   },
   "outputs": [
    {
     "data": {
      "text/html": [
       "<div>\n",
       "<style scoped>\n",
       "    .dataframe tbody tr th:only-of-type {\n",
       "        vertical-align: middle;\n",
       "    }\n",
       "\n",
       "    .dataframe tbody tr th {\n",
       "        vertical-align: top;\n",
       "    }\n",
       "\n",
       "    .dataframe thead th {\n",
       "        text-align: right;\n",
       "    }\n",
       "</style>\n",
       "<table border=\"1\" class=\"dataframe\">\n",
       "  <thead>\n",
       "    <tr style=\"text-align: right;\">\n",
       "      <th></th>\n",
       "      <th>userId</th>\n",
       "      <th>movieId</th>\n",
       "      <th>rating</th>\n",
       "    </tr>\n",
       "  </thead>\n",
       "  <tbody>\n",
       "    <tr>\n",
       "      <th>min</th>\n",
       "      <td>1.0</td>\n",
       "      <td>1.0</td>\n",
       "      <td>0.5</td>\n",
       "    </tr>\n",
       "    <tr>\n",
       "      <th>max</th>\n",
       "      <td>610.0</td>\n",
       "      <td>193609.0</td>\n",
       "      <td>5.0</td>\n",
       "    </tr>\n",
       "  </tbody>\n",
       "</table>\n",
       "</div>"
      ],
      "text/plain": [
       "     userId   movieId  rating\n",
       "min     1.0       1.0     0.5\n",
       "max   610.0  193609.0     5.0"
      ]
     },
     "execution_count": 5,
     "metadata": {},
     "output_type": "execute_result"
    }
   ],
   "source": [
    "ratings.describe().iloc[[3, 7], :]"
   ]
  },
  {
   "cell_type": "code",
   "execution_count": 6,
   "id": "fecc1e37",
   "metadata": {
    "scrolled": false
   },
   "outputs": [
    {
     "name": "stdout",
     "output_type": "stream",
     "text": [
      "<class 'pandas.core.frame.DataFrame'>\n",
      "RangeIndex: 100836 entries, 0 to 100835\n",
      "Data columns (total 3 columns):\n",
      " #   Column   Non-Null Count   Dtype\n",
      "---  ------   --------------   -----\n",
      " 0   userId   100836 non-null  int32\n",
      " 1   movieId  100836 non-null  int32\n",
      " 2   rating   100836 non-null  int8 \n",
      "dtypes: int32(2), int8(1)\n",
      "memory usage: 886.4 KB\n"
     ]
    }
   ],
   "source": [
    "ratings[['userId', 'movieId']] = ratings[['userId', 'movieId']].astype('int32')\n",
    "ratings[['rating']] = ratings[['rating']].astype('int8')\n",
    "ratings.info(memory_usage = 'deep')"
   ]
  },
  {
   "cell_type": "code",
   "execution_count": 7,
   "id": "da00ece0",
   "metadata": {},
   "outputs": [
    {
     "name": "stdout",
     "output_type": "stream",
     "text": [
      "Shape of Training set: (80668, 3) and of Test set: (20168, 3)\n"
     ]
    }
   ],
   "source": [
    "# Split the ratings data into training and test datasets\n",
    "df = ratings.copy(deep = True)\n",
    "training_set = df.iloc[:int(ratings.shape[0]*0.8), :]\n",
    "test_set = df.iloc[int(ratings.shape[0]*0.8):, :]\n",
    "print('Shape of Training set: {} and of Test set: {}'.format(training_set.shape, test_set.shape))"
   ]
  },
  {
   "cell_type": "code",
   "execution_count": 8,
   "id": "307b34d8",
   "metadata": {},
   "outputs": [
    {
     "name": "stdout",
     "output_type": "stream",
     "text": [
      "Max value for user id: 610 and for movie id: 193609\n"
     ]
    }
   ],
   "source": [
    "# Getting the number of users and movies\n",
    "nb_users = max(df['userId'])\n",
    "nb_movies = max(df['movieId'])\n",
    "print('Max value for user id: {} and for movie id: {}'.format(nb_users, nb_movies))"
   ]
  },
  {
   "cell_type": "code",
   "execution_count": 9,
   "id": "4d054bc2",
   "metadata": {
    "scrolled": false
   },
   "outputs": [],
   "source": [
    "# Converting the data into a tensor with userId in rows and movieId in columns\n",
    "def transform(data: pd.DataFrame) -> torch.tensor:\n",
    "    new_data = torch.zeros([nb_users, nb_movies], device = device, dtype = torch.float32)\n",
    "    for user_id in range(1, nb_users + 1):\n",
    "        id_movies = data.iloc[:, 1][data.iloc[:, 0] == user_id]\n",
    "        id_ratings = data.iloc[:, 2][data.iloc[:, 0] == user_id]\n",
    "        user_ratings = np.zeros(nb_movies)\n",
    "        user_ratings[id_movies - 1] = id_ratings\n",
    "        new_data[user_id - 1] = new_data[user_id - 1].add(torch.from_numpy(user_ratings).to(device))\n",
    "    return new_data\n",
    "\n",
    "training_set = transform(training_set)\n",
    "test_set = transform(test_set) "
   ]
  },
  {
   "cell_type": "markdown",
   "id": "a2531472",
   "metadata": {},
   "source": [
    "## Building the Auto-Encoder"
   ]
  },
  {
   "cell_type": "code",
   "execution_count": 10,
   "id": "50fa5dc1",
   "metadata": {},
   "outputs": [],
   "source": [
    "# Stacked Auto-Encoder architecture\n",
    "class SAE(nn.Module):\n",
    "    def __init__(self):\n",
    "        super(SAE, self).__init__()\n",
    "        self.fc1 = nn.Linear(nb_movies, 20) # 1st Full connection layer [Encoding]\n",
    "        self.fc2 = nn.Linear(20, 10) # 2nd Full connection layer [Encoding]\n",
    "        self.fc3 = nn.Linear(10, 20) # 3rd Full connection layer [Decoding]\n",
    "        self.fc4 = nn.Linear(20, nb_movies) # 4rd Full connection layer [Output]\n",
    "        self.activation = nn.Sigmoid()\n",
    "    \n",
    "    def forward(self, x):\n",
    "        x = self.activation(self.fc1(x))\n",
    "        x = self.activation(self.fc2(x))\n",
    "        x = self.activation(self.fc3(x))\n",
    "        x = self.fc4(x) \n",
    "        return x\n",
    "\n",
    "model = SAE()\n",
    "criterion = nn.MSELoss()\n",
    "optimizer = optim.RMSprop(model.parameters(), lr = 0.01, weight_decay = 0.5)"
   ]
  },
  {
   "cell_type": "code",
   "execution_count": 11,
   "id": "cc56704a",
   "metadata": {
    "scrolled": false
   },
   "outputs": [
    {
     "data": {
      "image/png": "[encoded data removed]",
      "text/plain": [
       "<Figure size 432x288 with 1 Axes>"
      ]
     },
     "metadata": {
      "needs_background": "light"
     },
     "output_type": "display_data"
    }
   ],
   "source": [
    "# Training the SAE\n",
    "nb_epoch, history = 300, {}\n",
    "for epoch in range(1, nb_epoch + 1):\n",
    "    train_loss, counter = 0, 0.0 # Keep the count of users rated the movies\n",
    "    for id_user in range(nb_users):\n",
    "        input = Variable(training_set[id_user]).unsqueeze(0) # a Batch instead of an 1D array\n",
    "        target = input.clone() # Input and Target are same\n",
    "        if torch.sum(target.data > 0) > 0: # Consider users at least once rated\n",
    "            output = model(input)\n",
    "            target.require_grad = False\n",
    "            output[target == 0] = 0 # Exclude non-rated movies from the output\n",
    "            loss = criterion(output, target)\n",
    "            mean_corrector = nb_movies/float(torch.sum(target.data > 0) + 1e-10)\n",
    "            loss.backward()\n",
    "            train_loss = train_loss + np.sqrt(loss.item() * mean_corrector)\n",
    "            counter = counter + 1.0\n",
    "            optimizer.step()\n",
    "    \n",
    "    history[epoch] = train_loss/counter\n",
    "\n",
    "plt.figure()\n",
    "plt.plot(history.keys(), history.values())\n",
    "plt.xlabel('Epochs')\n",
    "plt.ylabel('Train loss')\n",
    "plt.show()"
   ]
  },
  {
   "cell_type": "code",
   "execution_count": 12,
   "id": "11944553",
   "metadata": {},
   "outputs": [
    {
     "name": "stdout",
     "output_type": "stream",
     "text": [
      "Test loss: 1.376\n"
     ]
    }
   ],
   "source": [
    "# Testing the SAE\n",
    "test_loss, counter = 0, 0.0\n",
    "for id_user in range(nb_users):\n",
    "    input = Variable(training_set[id_user]).unsqueeze(0)\n",
    "    target = Variable(test_set[id_user]).unsqueeze(0)\n",
    "    if torch.sum(target.data > 0) > 0:\n",
    "        output = model(input)\n",
    "        target.require_grad = False\n",
    "        output[target == 0] = 0\n",
    "        loss = criterion(output, target)\n",
    "        mean_corrector = nb_movies/float(torch.sum(target.data > 0) + 1e-10)\n",
    "        test_loss = test_loss + np.sqrt(loss.item() * mean_corrector)\n",
    "        counter = counter + 1.0\n",
    "print(\"Test loss: {:.3f}\".format(test_loss/counter))    "
   ]
  },
  {
   "cell_type": "markdown",
   "id": "6b65d996",
   "metadata": {},
   "source": [
    "## Conclusion\n",
    "We have a test loss of ~1.4 units. In a rating range of $[1, 5]$, this loss indicates that our Stacked Auto-Encoder model will predict the ratings of users with a $\\pm$ 1.4 accuracy."
   ]
  }
 ],
 "metadata": {
  "kernelspec": {
   "display_name": "Python 3",
   "language": "python",
   "name": "python3"
  },
  "language_info": {
   "codemirror_mode": {
    "name": "ipython",
    "version": 3
   },
   "file_extension": ".py",
   "mimetype": "text/x-python",
   "name": "python",
   "nbconvert_exporter": "python",
   "pygments_lexer": "ipython3",
   "version": "3.9.12"
  }
 },
 "nbformat": 4,
 "nbformat_minor": 5
}
