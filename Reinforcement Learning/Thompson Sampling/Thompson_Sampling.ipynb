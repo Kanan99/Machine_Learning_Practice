{
  "nbformat": 4,
  "nbformat_minor": 0,
  "metadata": {
    "colab": {
      "name": "Thompson Sampling.ipynb",
      "provenance": []
    },
    "kernelspec": {
      "name": "python3",
      "display_name": "Python 3"
    },
    "language_info": {
      "name": "python"
    }
  },
  "cells": [
    {
      "cell_type": "code",
      "execution_count": 1,
      "metadata": {
        "cellView": "form",
        "id": "EX5h8cvSpvAh"
      },
      "outputs": [],
      "source": [
        "#@title Preparing the data\n",
        "# Importing the libraries\n",
        "import pandas as pd\n",
        "import matplotlib.pyplot as plt\n",
        "import numpy as np\n",
        "\n",
        "# Importing the dataset\n",
        "df = pd.read_csv('Data.csv') # Advertisement Clickthrough Rate data"
      ]
    },
    {
      "cell_type": "markdown",
      "source": [
        "### Thompson Sampling algorithm\n",
        "**Step 1:** At each round *n*, we consider two numbers for each ad *i*:\n",
        "* $N_i^1(n)$ - the number of times the ad *i* got reward 1 up to round *n*,\n",
        "* $N_i^0(n)$ - the number of times the ad *i* got reward 0 up to round *n*.\n",
        "\n",
        "**Step 2:** For each ad *i*, we take a random draw from the distribution below:\n",
        "$$\\theta_i(n) = \\beta(N_i^1(n) + 1,\\space N_i^0(n) + 1); \\text{where} \\space\\beta\\space \\text{is Beta Distribution}$$\n",
        "\n",
        "**Step 3:** We select the ad *i* that has the highest $\\theta_i(n)$."
      ],
      "metadata": {
        "id": "WL_35eCBqH3y"
      }
    },
    {
      "cell_type": "code",
      "source": [
        "#@title The Algorithm\n",
        "class Thompson(object):\n",
        "  def __init__(self, dataframe):\n",
        "    ### Step 1\n",
        "    self.df = dataframe\n",
        "    self.N = self.df.shape[0] # Number of users\n",
        "    self.d = self.df.shape[1] # Number of ads\n",
        "    self.ads_selected = list()\n",
        "    self.numbers_of_rewards_1 = [0] * self.d\n",
        "    self.numbers_of_rewards_0 = [0] * self.d\n",
        "    self.total_reward = 0\n",
        "  \n",
        "  def get_random_beta(self, index):\n",
        "    self.random_beta = np.random.beta(a = self.numbers_of_rewards_1[index] + 1,\n",
        "                                      b = self.numbers_of_rewards_0[index] + 1)\n",
        "    return self.random_beta\n",
        "  \n",
        "  def update_rewards(self, ad, reward):\n",
        "    if reward == 1:\n",
        "        self.numbers_of_rewards_1[ad] = self.numbers_of_rewards_1[ad] + 1\n",
        "    else:\n",
        "        self.numbers_of_rewards_0[ad] = self.numbers_of_rewards_0[ad] + 1\n",
        "    self.total_reward = self.total_reward + reward\n",
        "  \n",
        "  def run(self):\n",
        "    assert len(self.ads_selected) == 0, 'Algorithm has already been run!'\n",
        "    ### Step 2\n",
        "    for n in range(0, self.N):\n",
        "      ad, max_random = 0, 0\n",
        "\n",
        "      for i in range(0, self.d):\n",
        "        random_beta = self.get_random_beta(i)\n",
        "\n",
        "    ### Step 3\n",
        "        if random_beta > max_random:\n",
        "          max_random = random_beta\n",
        "          ad = i\n",
        "      \n",
        "      # Update the variables\n",
        "      self.ads_selected.append(ad)\n",
        "      reward = self.df.iloc[n, ad]\n",
        "      self.update_rewards(ad, reward)\n",
        "\n",
        "  def visualize(self):\n",
        "    assert len(self.ads_selected) > 0, 'First run the UCB algorithm!'\n",
        "    plt.hist(self.ads_selected, ec = 'black')\n",
        "    plt.xticks(range(0, self.d))\n",
        "    plt.title('Histogram of ads selections', size = 18)\n",
        "    plt.xlabel('Ads', size = 14)\n",
        "    plt.ylabel('# of times ad was selected', size = 14) \n",
        "\n"
      ],
      "metadata": {
        "id": "rXUUBznoqHBy"
      },
      "execution_count": 2,
      "outputs": []
    },
    {
      "cell_type": "code",
      "source": [
        "#@title Visualizing the Thompson Sampling results\n",
        "model = Thompson(df)\n",
        "model.run()\n",
        "model.visualize()"
      ],
      "metadata": {
        "colab": {
          "base_uri": "https://localhost:8080/",
          "height": 303
        },
        "cellView": "form",
        "id": "mJnxWWPVyzaW",
        "outputId": "b28c6825-d19d-4a7b-9c4c-a4195ffd2bfa"
      },
      "execution_count": 3,
      "outputs": [
        {
          "output_type": "display_data",
          "data": {
            "text/plain": [
              "<Figure size 432x288 with 1 Axes>"
            ],
            "image/png": "[encoded data removed]"
          },
          "metadata": {
            "needs_background": "light"
          }
        }
      ]
    }
  ]
}