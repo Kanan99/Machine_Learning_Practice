{
  "nbformat": 4,
  "nbformat_minor": 0,
  "metadata": {
    "colab": {
      "name": "Upper Confidence Bound.ipynb",
      "provenance": []
    },
    "kernelspec": {
      "name": "python3",
      "display_name": "Python 3"
    },
    "language_info": {
      "name": "python"
    }
  },
  "cells": [
    {
      "cell_type": "code",
      "execution_count": 1,
      "metadata": {
        "cellView": "form",
        "id": "EX5h8cvSpvAh"
      },
      "outputs": [],
      "source": [
        "#@title Preparing the data\n",
        "# Importing the libraries\n",
        "import pandas as pd\n",
        "import matplotlib.pyplot as plt\n",
        "import math\n",
        "\n",
        "# Importing the dataset\n",
        "df = pd.read_csv('Data.csv') # Advertisement Clickthrough Rate data"
      ]
    },
    {
      "cell_type": "markdown",
      "source": [
        "### Upper Confidence Bound (UCB) algorithm\n",
        "**Step 1:** At each round *n*, we consider two numbers for each ad *i*:\n",
        "* $N_i(n)$ - the number of time the ad *i* was selected up to round *n*,\n",
        "* $R_i(n)$ - the sum of rewards of the ad *i* up to round *n*.\n",
        "\n",
        "**Step 2:** From these two numbers we compute:\n",
        "* the average reward of ad *i* up to round *n*:\n",
        "$$\\bar{r}_i(n) = \\frac{R_i(n)}{N_i(n)}$$\n",
        "* the confidence interval $[\\bar{r}_i(n) - \\Delta_i(n),\\space \\bar{r}_i(n) + \\Delta_i(n)]$ at round *n* with\n",
        "$$\\Delta_i(n) = \\sqrt{\\frac{3*log(n)}{2*N_i(n)}}$$\n",
        "\n",
        "**Step 3:** We select the ad *i* that has the maximum UCB as $\\bar{r}_i(n) + \\Delta_i(n)$"
      ],
      "metadata": {
        "id": "WL_35eCBqH3y"
      }
    },
    {
      "cell_type": "code",
      "source": [
        "#@title The Algorithm\n",
        "class UCB(object):\n",
        "  def __init__(self, dataframe):\n",
        "    ### Step 1\n",
        "    self.df = dataframe\n",
        "    self.N = self.df.shape[0] # Number of users\n",
        "    self.d = self.df.shape[1] # Number of ads\n",
        "    self.ads_selected = list()\n",
        "    self.numbers_of_selections = [0] * self.d\n",
        "    self.sums_of_rewards = [0] * self.d\n",
        "    self.total_reward = 0\n",
        "  \n",
        "  def get_average_reward(self, index):\n",
        "    self.average_reward = self.sums_of_rewards[index] / self.numbers_of_selections[index]\n",
        "    return self.average_reward\n",
        "  \n",
        "  def get_delta(self, index, number):\n",
        "    self.delta_i = math.sqrt(3/2 * math.log(number + 1) / self.numbers_of_selections[index])\n",
        "    return self.delta_i\n",
        "  \n",
        "  def run(self):\n",
        "    assert len(self.ads_selected) == 0, 'Algorithm has already been run!'\n",
        "    ### Step 2\n",
        "    for n in range(0, self.N):\n",
        "      ad, max_upper_bound = 0, 0\n",
        "\n",
        "      for i in range(0, self.d):\n",
        "        if self.numbers_of_selections[i] > 0:\n",
        "          average_reward = self.get_average_reward(i)\n",
        "          delta_i = self.get_delta(i, n)\n",
        "          upper_bound = average_reward + delta_i\n",
        "        else:\n",
        "          upper_bound = 1e400\n",
        "    \n",
        "    ### Step 3\n",
        "        if upper_bound > max_upper_bound:\n",
        "          max_upper_bound = upper_bound\n",
        "          ad = i\n",
        "      \n",
        "      # Update the variables\n",
        "      self.ads_selected.append(ad)\n",
        "      self.numbers_of_selections[ad] = self.numbers_of_selections[ad] + 1\n",
        "      # Find the reward and update the variables\n",
        "      reward = self.df.iloc[n, ad]\n",
        "      self.sums_of_rewards[ad] = self.sums_of_rewards[ad] + reward\n",
        "      self.total_reward = self.total_reward + reward\n",
        "\n",
        "  def visualize(self):\n",
        "    assert len(self.ads_selected) > 0, 'First run the UCB algorithm!'\n",
        "    plt.hist(self.ads_selected, ec = 'black')\n",
        "    plt.xticks(range(0, self.d))\n",
        "    plt.title('Histogram of ads selections', size = 18)\n",
        "    plt.xlabel('Ads', size = 14)\n",
        "    plt.ylabel('# of times ad was selected', size = 14) \n",
        "\n"
      ],
      "metadata": {
        "id": "rXUUBznoqHBy"
      },
      "execution_count": 2,
      "outputs": []
    },
    {
      "cell_type": "code",
      "source": [
        "#@title Visualizing the UCB results\n",
        "model = UCB(df)\n",
        "model.run()\n",
        "model.visualize()"
      ],
      "metadata": {
        "colab": {
          "base_uri": "https://localhost:8080/",
          "height": 303
        },
        "cellView": "form",
        "id": "mJnxWWPVyzaW",
        "outputId": "7e14e77a-0bae-4d07-df8b-c2c4835d22f8"
      },
      "execution_count": 3,
      "outputs": [
        {
          "output_type": "display_data",
          "data": {
            "text/plain": [
              "<Figure size 432x288 with 1 Axes>"
            ],
            "image/png": "[encoded data removed]"
          },
          "metadata": {
            "needs_background": "light"
          }
        }
      ]
    }
  ]
}