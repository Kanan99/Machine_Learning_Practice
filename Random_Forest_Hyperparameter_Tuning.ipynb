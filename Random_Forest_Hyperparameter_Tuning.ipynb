{
  "nbformat": 4,
  "nbformat_minor": 0,
  "metadata": {
    "colab": {
      "name": "Random Forest - Hyperparameter Tuning.ipynb",
      "provenance": [],
      "authorship_tag": "ABX9TyMdoIHQHhS3mTPo74Bui5HA",
      "include_colab_link": true
    },
    "kernelspec": {
      "name": "python3",
      "display_name": "Python 3"
    },
    "language_info": {
      "name": "python"
    }
  },
  "cells": [
    {
      "cell_type": "markdown",
      "metadata": {
        "id": "view-in-github",
        "colab_type": "text"
      },
      "source": [
        "<a href=\"https://colab.research.google.com/github/PrettyCharity/Machine_Learning_Practice/blob/main/Random_Forest_Hyperparameter_Tuning.ipynb\" target=\"_parent\"><img src=\"https://colab.research.google.com/assets/colab-badge.svg\" alt=\"Open In Colab\"/></a>"
      ]
    },
    {
      "cell_type": "code",
      "source": [
        "#@title Installing packages\n",
        "!pip install scikit-optimize\n",
        "!pip install optuna"
      ],
      "metadata": {
        "cellView": "form",
        "id": "Qz6phkOK4jkt"
      },
      "execution_count": null,
      "outputs": []
    },
    {
      "cell_type": "code",
      "execution_count": 2,
      "metadata": {
        "cellView": "form",
        "id": "931yqq2DShJx"
      },
      "outputs": [],
      "source": [
        "#@title Preparing the data\n",
        "# Importing libraries\n",
        "import pandas as pd\n",
        "import numpy as np\n",
        "pd.set_option(\"display.precision\", 4)\n",
        "# Metrics\n",
        "from sklearn.metrics import f1_score\n",
        "# Model\n",
        "from sklearn.ensemble import RandomForestClassifier\n",
        "\n",
        "# Loading the data\n",
        "df = pd.read_csv('Data.csv')\n",
        "X = df.iloc[:, :-1].values\n",
        "y = df.iloc[:, -1].values\n",
        "\n",
        "# Encoding the Dependent Variable\n",
        "from sklearn.preprocessing import LabelEncoder\n",
        "le = LabelEncoder()\n",
        "y = le.fit_transform(y)\n",
        "\n",
        "# Splitting the data into train and test set\n",
        "from sklearn.model_selection import train_test_split\n",
        "X_train, X_test, y_train, y_test = train_test_split(X, y,\n",
        "                                                    test_size = 0.2,\n",
        "                                                    random_state = 42)\n",
        "\n",
        "# Feature scaling\n",
        "from sklearn.preprocessing import StandardScaler\n",
        "sc = StandardScaler()\n",
        "X_train = sc.fit_transform(X_train)\n",
        "X_test = sc.fit_transform(X_test)\n",
        "\n"
      ]
    },
    {
      "cell_type": "code",
      "source": [
        "#@title Parameter List\n",
        "params = {\n",
        "          'criterion' : ('gini', 'entropy'),\n",
        "          'n_estimators' : list(range(1, 500, 10)),\n",
        "          'max_depth' : list(range(5, 25, 5)),\n",
        "          'min_samples_split': list(range(2, 10)),\n",
        "          'max_features' : ('sqrt', 'log2')\n",
        "          }\n"
      ],
      "metadata": {
        "cellView": "form",
        "id": "7r6e3avKosJt"
      },
      "execution_count": 3,
      "outputs": []
    },
    {
      "cell_type": "code",
      "source": [
        "#@title RandomizedSearchCV\n",
        "from sklearn.model_selection import RandomizedSearchCV\n",
        "model = RandomForestClassifier(random_state=42)\n",
        "clf = RandomizedSearchCV(model, params).fit(X_train, y_train)\n",
        "y_pred = clf.predict(X_test)\n",
        "f1_random = f1_score(y_test, y_pred)"
      ],
      "metadata": {
        "cellView": "form",
        "id": "1NEp1QKDrIxs"
      },
      "execution_count": 4,
      "outputs": []
    },
    {
      "cell_type": "code",
      "source": [
        "#@title BayesSearchCV\n",
        "from skopt import BayesSearchCV\n",
        "from skopt.space import Real, Categorical, Integer\n",
        "model = RandomForestClassifier(random_state=42)\n",
        "clf = BayesSearchCV(\n",
        "    model,\n",
        "    {\n",
        "          'criterion' : Categorical(['gini', 'entropy']),\n",
        "          'n_estimators' : Integer(10, 500),\n",
        "          'max_depth' : Integer(5, 25),\n",
        "          'min_samples_split': Integer(2, 10),\n",
        "          'max_features' : Categorical(['sqrt', 'log2'])\n",
        "    },\n",
        "    n_iter = 100,\n",
        "    random_state = 42,\n",
        "    verbose = -1\n",
        ")\n",
        "\n",
        "clf.fit(X_train, y_train)\n",
        "y_pred = clf.predict(X_test)\n",
        "f1_bayes = f1_score(y_test, y_pred)"
      ],
      "metadata": {
        "cellView": "form",
        "id": "KPGeyryL4P9i"
      },
      "execution_count": null,
      "outputs": []
    },
    {
      "cell_type": "code",
      "source": [
        "#@title Optuna\n",
        "import optuna\n",
        "def objective(trial):\n",
        "\n",
        "    params = {\n",
        "        'criterion' : trial.suggest_categorical('criterion', ['gini', 'entropy']),\n",
        "        'n_estimators' : trial.suggest_int('n_estimators', 1, 500),\n",
        "        'max_depth' : trial.suggest_int('max_depth', 5, 25),\n",
        "        'min_samples_split' : trial.suggest_int('min_samples_split', 2, 10),\n",
        "        'max_features' : trial.suggest_categorical('max_features', ['sqrt', 'log2'])\n",
        "      }\n",
        "\n",
        "    model = RandomForestClassifier(**params, random_state=42)  \n",
        "    \n",
        "    model.fit(X_train, y_train)\n",
        "    \n",
        "    y_pred = model.predict(X_test)\n",
        "    \n",
        "    score = f1_score(y_test, y_pred)\n",
        "    \n",
        "    return score\n",
        "\n",
        "study = optuna.create_study(direction='maximize', study_name = 'RFC Optuna')\n",
        "study.optimize(objective, n_trials=100)\n",
        "\n",
        "# Building the Random Forest model\n",
        "best_params = study.best_trial.params\n",
        "model = RandomForestClassifier(**best_params, random_state=42)\n",
        "model.fit(X_train, y_train)\n",
        "y_pred = model.predict(X_test)\n",
        "f1_optuna = f1_score(y_test, y_pred)"
      ],
      "metadata": {
        "colab": {
          "base_uri": "https://localhost:8080/"
        },
        "cellView": "form",
        "id": "M2L0K9u8hALM",
        "outputId": "c0b3acf8-376d-488d-f9c7-150e5a447056"
      },
      "execution_count": 9,
      "outputs": [
        {
          "output_type": "stream",
          "name": "stderr",
          "text": [
            "\u001b[32m[I 2022-03-18 15:57:55,436]\u001b[0m A new study created in memory with name: RFC Optuna\u001b[0m\n",
            "\u001b[32m[I 2022-03-18 15:57:55,699]\u001b[0m Trial 0 finished with value: 0.9272727272727272 and parameters: {'criterion': 'gini', 'n_estimators': 147, 'max_depth': 23, 'min_samples_split': 6, 'max_features': 'log2'}. Best is trial 0 with value: 0.9272727272727272.\u001b[0m\n",
            "\u001b[32m[I 2022-03-18 15:57:56,478]\u001b[0m Trial 1 finished with value: 0.9369369369369369 and parameters: {'criterion': 'gini', 'n_estimators': 461, 'max_depth': 9, 'min_samples_split': 9, 'max_features': 'sqrt'}. Best is trial 1 with value: 0.9369369369369369.\u001b[0m\n",
            "\u001b[32m[I 2022-03-18 15:57:56,538]\u001b[0m Trial 2 finished with value: 0.9272727272727272 and parameters: {'criterion': 'entropy', 'n_estimators': 30, 'max_depth': 11, 'min_samples_split': 8, 'max_features': 'log2'}. Best is trial 1 with value: 0.9369369369369369.\u001b[0m\n",
            "\u001b[32m[I 2022-03-18 15:57:56,979]\u001b[0m Trial 3 finished with value: 0.9272727272727272 and parameters: {'criterion': 'entropy', 'n_estimators': 236, 'max_depth': 10, 'min_samples_split': 10, 'max_features': 'log2'}. Best is trial 1 with value: 0.9369369369369369.\u001b[0m\n",
            "\u001b[32m[I 2022-03-18 15:57:57,022]\u001b[0m Trial 4 finished with value: 0.9369369369369369 and parameters: {'criterion': 'entropy', 'n_estimators': 21, 'max_depth': 16, 'min_samples_split': 5, 'max_features': 'log2'}. Best is trial 1 with value: 0.9369369369369369.\u001b[0m\n",
            "\u001b[32m[I 2022-03-18 15:57:57,421]\u001b[0m Trial 5 finished with value: 0.9369369369369369 and parameters: {'criterion': 'gini', 'n_estimators': 233, 'max_depth': 6, 'min_samples_split': 9, 'max_features': 'log2'}. Best is trial 1 with value: 0.9369369369369369.\u001b[0m\n",
            "\u001b[32m[I 2022-03-18 15:57:57,650]\u001b[0m Trial 6 finished with value: 0.9272727272727272 and parameters: {'criterion': 'entropy', 'n_estimators': 122, 'max_depth': 11, 'min_samples_split': 9, 'max_features': 'log2'}. Best is trial 1 with value: 0.9369369369369369.\u001b[0m\n",
            "\u001b[32m[I 2022-03-18 15:57:58,317]\u001b[0m Trial 7 finished with value: 0.9369369369369369 and parameters: {'criterion': 'gini', 'n_estimators': 389, 'max_depth': 6, 'min_samples_split': 10, 'max_features': 'sqrt'}. Best is trial 1 with value: 0.9369369369369369.\u001b[0m\n",
            "\u001b[32m[I 2022-03-18 15:57:58,684]\u001b[0m Trial 8 finished with value: 0.9369369369369369 and parameters: {'criterion': 'gini', 'n_estimators': 213, 'max_depth': 22, 'min_samples_split': 7, 'max_features': 'sqrt'}. Best is trial 1 with value: 0.9369369369369369.\u001b[0m\n",
            "\u001b[32m[I 2022-03-18 15:57:58,861]\u001b[0m Trial 9 finished with value: 0.9272727272727272 and parameters: {'criterion': 'entropy', 'n_estimators': 93, 'max_depth': 6, 'min_samples_split': 9, 'max_features': 'log2'}. Best is trial 1 with value: 0.9369369369369369.\u001b[0m\n",
            "\u001b[32m[I 2022-03-18 15:57:59,697]\u001b[0m Trial 10 finished with value: 0.9272727272727272 and parameters: {'criterion': 'gini', 'n_estimators': 488, 'max_depth': 17, 'min_samples_split': 2, 'max_features': 'sqrt'}. Best is trial 1 with value: 0.9369369369369369.\u001b[0m\n",
            "\u001b[32m[I 2022-03-18 15:58:00,334]\u001b[0m Trial 11 finished with value: 0.9272727272727272 and parameters: {'criterion': 'entropy', 'n_estimators': 371, 'max_depth': 17, 'min_samples_split': 5, 'max_features': 'sqrt'}. Best is trial 1 with value: 0.9369369369369369.\u001b[0m\n",
            "\u001b[32m[I 2022-03-18 15:58:00,922]\u001b[0m Trial 12 finished with value: 0.9369369369369369 and parameters: {'criterion': 'gini', 'n_estimators': 335, 'max_depth': 14, 'min_samples_split': 4, 'max_features': 'sqrt'}. Best is trial 1 with value: 0.9369369369369369.\u001b[0m\n",
            "\u001b[32m[I 2022-03-18 15:58:01,791]\u001b[0m Trial 13 finished with value: 0.9272727272727272 and parameters: {'criterion': 'entropy', 'n_estimators': 498, 'max_depth': 15, 'min_samples_split': 3, 'max_features': 'sqrt'}. Best is trial 1 with value: 0.9369369369369369.\u001b[0m\n",
            "\u001b[32m[I 2022-03-18 15:58:01,812]\u001b[0m Trial 14 finished with value: 0.9464285714285714 and parameters: {'criterion': 'gini', 'n_estimators': 5, 'max_depth': 20, 'min_samples_split': 6, 'max_features': 'sqrt'}. Best is trial 14 with value: 0.9464285714285714.\u001b[0m\n",
            "\u001b[32m[I 2022-03-18 15:58:02,354]\u001b[0m Trial 15 finished with value: 0.9369369369369369 and parameters: {'criterion': 'gini', 'n_estimators': 317, 'max_depth': 20, 'min_samples_split': 7, 'max_features': 'sqrt'}. Best is trial 14 with value: 0.9464285714285714.\u001b[0m\n",
            "\u001b[32m[I 2022-03-18 15:58:03,085]\u001b[0m Trial 16 finished with value: 0.9369369369369369 and parameters: {'criterion': 'gini', 'n_estimators': 429, 'max_depth': 20, 'min_samples_split': 7, 'max_features': 'sqrt'}. Best is trial 14 with value: 0.9464285714285714.\u001b[0m\n",
            "\u001b[32m[I 2022-03-18 15:58:03,410]\u001b[0m Trial 17 finished with value: 0.9369369369369369 and parameters: {'criterion': 'gini', 'n_estimators': 188, 'max_depth': 25, 'min_samples_split': 6, 'max_features': 'sqrt'}. Best is trial 14 with value: 0.9464285714285714.\u001b[0m\n",
            "\u001b[32m[I 2022-03-18 15:58:03,567]\u001b[0m Trial 18 finished with value: 0.9369369369369369 and parameters: {'criterion': 'gini', 'n_estimators': 82, 'max_depth': 21, 'min_samples_split': 7, 'max_features': 'sqrt'}. Best is trial 14 with value: 0.9464285714285714.\u001b[0m\n",
            "\u001b[32m[I 2022-03-18 15:58:03,701]\u001b[0m Trial 19 finished with value: 0.9369369369369369 and parameters: {'criterion': 'gini', 'n_estimators': 66, 'max_depth': 19, 'min_samples_split': 5, 'max_features': 'sqrt'}. Best is trial 14 with value: 0.9464285714285714.\u001b[0m\n",
            "\u001b[32m[I 2022-03-18 15:58:03,724]\u001b[0m Trial 20 finished with value: 0.9464285714285714 and parameters: {'criterion': 'gini', 'n_estimators': 5, 'max_depth': 19, 'min_samples_split': 4, 'max_features': 'sqrt'}. Best is trial 14 with value: 0.9464285714285714.\u001b[0m\n",
            "\u001b[32m[I 2022-03-18 15:58:04,247]\u001b[0m Trial 21 finished with value: 0.9369369369369369 and parameters: {'criterion': 'gini', 'n_estimators': 292, 'max_depth': 9, 'min_samples_split': 4, 'max_features': 'sqrt'}. Best is trial 14 with value: 0.9464285714285714.\u001b[0m\n",
            "\u001b[32m[I 2022-03-18 15:58:04,740]\u001b[0m Trial 22 finished with value: 0.9369369369369369 and parameters: {'criterion': 'gini', 'n_estimators': 292, 'max_depth': 13, 'min_samples_split': 3, 'max_features': 'sqrt'}. Best is trial 14 with value: 0.9464285714285714.\u001b[0m\n",
            "\u001b[32m[I 2022-03-18 15:58:04,793]\u001b[0m Trial 23 finished with value: 0.9285714285714286 and parameters: {'criterion': 'gini', 'n_estimators': 13, 'max_depth': 13, 'min_samples_split': 2, 'max_features': 'sqrt'}. Best is trial 14 with value: 0.9464285714285714.\u001b[0m\n",
            "\u001b[32m[I 2022-03-18 15:58:04,869]\u001b[0m Trial 24 finished with value: 0.9369369369369369 and parameters: {'criterion': 'gini', 'n_estimators': 38, 'max_depth': 18, 'min_samples_split': 4, 'max_features': 'sqrt'}. Best is trial 14 with value: 0.9464285714285714.\u001b[0m\n",
            "\u001b[32m[I 2022-03-18 15:58:05,160]\u001b[0m Trial 25 finished with value: 0.9369369369369369 and parameters: {'criterion': 'gini', 'n_estimators': 164, 'max_depth': 14, 'min_samples_split': 4, 'max_features': 'sqrt'}. Best is trial 14 with value: 0.9464285714285714.\u001b[0m\n",
            "\u001b[32m[I 2022-03-18 15:58:05,788]\u001b[0m Trial 26 finished with value: 0.9369369369369369 and parameters: {'criterion': 'gini', 'n_estimators': 362, 'max_depth': 24, 'min_samples_split': 3, 'max_features': 'sqrt'}. Best is trial 14 with value: 0.9464285714285714.\u001b[0m\n",
            "\u001b[32m[I 2022-03-18 15:58:05,804]\u001b[0m Trial 27 finished with value: 0.9009009009009009 and parameters: {'criterion': 'gini', 'n_estimators': 1, 'max_depth': 25, 'min_samples_split': 3, 'max_features': 'sqrt'}. Best is trial 14 with value: 0.9464285714285714.\u001b[0m\n",
            "\u001b[32m[I 2022-03-18 15:58:06,292]\u001b[0m Trial 28 finished with value: 0.9272727272727272 and parameters: {'criterion': 'gini', 'n_estimators': 279, 'max_depth': 18, 'min_samples_split': 2, 'max_features': 'sqrt'}. Best is trial 14 with value: 0.9464285714285714.\u001b[0m\n",
            "\u001b[32m[I 2022-03-18 15:58:07,037]\u001b[0m Trial 29 finished with value: 0.9272727272727272 and parameters: {'criterion': 'gini', 'n_estimators': 437, 'max_depth': 22, 'min_samples_split': 6, 'max_features': 'sqrt'}. Best is trial 14 with value: 0.9464285714285714.\u001b[0m\n",
            "\u001b[32m[I 2022-03-18 15:58:07,301]\u001b[0m Trial 30 finished with value: 0.9369369369369369 and parameters: {'criterion': 'gini', 'n_estimators': 142, 'max_depth': 23, 'min_samples_split': 8, 'max_features': 'sqrt'}. Best is trial 14 with value: 0.9464285714285714.\u001b[0m\n",
            "\u001b[32m[I 2022-03-18 15:58:07,878]\u001b[0m Trial 31 finished with value: 0.9369369369369369 and parameters: {'criterion': 'gini', 'n_estimators': 336, 'max_depth': 20, 'min_samples_split': 6, 'max_features': 'sqrt'}. Best is trial 14 with value: 0.9464285714285714.\u001b[0m\n",
            "\u001b[32m[I 2022-03-18 15:58:08,462]\u001b[0m Trial 32 finished with value: 0.9369369369369369 and parameters: {'criterion': 'gini', 'n_estimators': 332, 'max_depth': 24, 'min_samples_split': 5, 'max_features': 'sqrt'}. Best is trial 14 with value: 0.9464285714285714.\u001b[0m\n",
            "\u001b[32m[I 2022-03-18 15:58:08,720]\u001b[0m Trial 33 finished with value: 0.9369369369369369 and parameters: {'criterion': 'gini', 'n_estimators': 138, 'max_depth': 22, 'min_samples_split': 8, 'max_features': 'sqrt'}. Best is trial 14 with value: 0.9464285714285714.\u001b[0m\n",
            "\u001b[32m[I 2022-03-18 15:58:09,438]\u001b[0m Trial 34 finished with value: 0.9272727272727272 and parameters: {'criterion': 'gini', 'n_estimators': 421, 'max_depth': 20, 'min_samples_split': 6, 'max_features': 'sqrt'}. Best is trial 14 with value: 0.9464285714285714.\u001b[0m\n",
            "\u001b[32m[I 2022-03-18 15:58:09,741]\u001b[0m Trial 35 finished with value: 0.9369369369369369 and parameters: {'criterion': 'gini', 'n_estimators': 173, 'max_depth': 13, 'min_samples_split': 3, 'max_features': 'log2'}. Best is trial 14 with value: 0.9464285714285714.\u001b[0m\n",
            "\u001b[32m[I 2022-03-18 15:58:09,853]\u001b[0m Trial 36 finished with value: 0.9464285714285714 and parameters: {'criterion': 'gini', 'n_estimators': 52, 'max_depth': 25, 'min_samples_split': 8, 'max_features': 'sqrt'}. Best is trial 14 with value: 0.9464285714285714.\u001b[0m\n",
            "\u001b[32m[I 2022-03-18 15:58:09,948]\u001b[0m Trial 37 finished with value: 0.9369369369369369 and parameters: {'criterion': 'entropy', 'n_estimators': 43, 'max_depth': 22, 'min_samples_split': 8, 'max_features': 'log2'}. Best is trial 14 with value: 0.9464285714285714.\u001b[0m\n",
            "\u001b[32m[I 2022-03-18 15:58:10,107]\u001b[0m Trial 38 finished with value: 0.9369369369369369 and parameters: {'criterion': 'gini', 'n_estimators': 86, 'max_depth': 23, 'min_samples_split': 7, 'max_features': 'sqrt'}. Best is trial 14 with value: 0.9464285714285714.\u001b[0m\n",
            "\u001b[32m[I 2022-03-18 15:58:10,216]\u001b[0m Trial 39 finished with value: 0.9369369369369369 and parameters: {'criterion': 'gini', 'n_estimators': 57, 'max_depth': 19, 'min_samples_split': 5, 'max_features': 'log2'}. Best is trial 14 with value: 0.9464285714285714.\u001b[0m\n",
            "\u001b[32m[I 2022-03-18 15:58:10,329]\u001b[0m Trial 40 finished with value: 0.9369369369369369 and parameters: {'criterion': 'entropy', 'n_estimators': 59, 'max_depth': 16, 'min_samples_split': 5, 'max_features': 'sqrt'}. Best is trial 14 with value: 0.9464285714285714.\u001b[0m\n",
            "\u001b[32m[I 2022-03-18 15:58:10,347]\u001b[0m Trial 41 finished with value: 0.9074074074074074 and parameters: {'criterion': 'gini', 'n_estimators': 2, 'max_depth': 10, 'min_samples_split': 4, 'max_features': 'log2'}. Best is trial 14 with value: 0.9464285714285714.\u001b[0m\n",
            "\u001b[32m[I 2022-03-18 15:58:10,503]\u001b[0m Trial 42 finished with value: 0.9369369369369369 and parameters: {'criterion': 'gini', 'n_estimators': 81, 'max_depth': 24, 'min_samples_split': 7, 'max_features': 'sqrt'}. Best is trial 14 with value: 0.9464285714285714.\u001b[0m\n",
            "\u001b[32m[I 2022-03-18 15:58:10,975]\u001b[0m Trial 43 finished with value: 0.9369369369369369 and parameters: {'criterion': 'gini', 'n_estimators': 270, 'max_depth': 8, 'min_samples_split': 4, 'max_features': 'sqrt'}. Best is trial 14 with value: 0.9464285714285714.\u001b[0m\n",
            "\u001b[32m[I 2022-03-18 15:58:11,040]\u001b[0m Trial 44 finished with value: 0.9557522123893805 and parameters: {'criterion': 'gini', 'n_estimators': 27, 'max_depth': 8, 'min_samples_split': 9, 'max_features': 'sqrt'}. Best is trial 44 with value: 0.9557522123893805.\u001b[0m\n",
            "\u001b[32m[I 2022-03-18 15:58:11,230]\u001b[0m Trial 45 finished with value: 0.9464285714285714 and parameters: {'criterion': 'gini', 'n_estimators': 105, 'max_depth': 23, 'min_samples_split': 9, 'max_features': 'sqrt'}. Best is trial 44 with value: 0.9557522123893805.\u001b[0m\n",
            "\u001b[32m[I 2022-03-18 15:58:11,438]\u001b[0m Trial 46 finished with value: 0.9464285714285714 and parameters: {'criterion': 'entropy', 'n_estimators': 114, 'max_depth': 5, 'min_samples_split': 10, 'max_features': 'sqrt'}. Best is trial 44 with value: 0.9557522123893805.\u001b[0m\n",
            "\u001b[32m[I 2022-03-18 15:58:11,495]\u001b[0m Trial 47 finished with value: 0.9369369369369369 and parameters: {'criterion': 'entropy', 'n_estimators': 25, 'max_depth': 5, 'min_samples_split': 10, 'max_features': 'sqrt'}. Best is trial 44 with value: 0.9557522123893805.\u001b[0m\n",
            "\u001b[32m[I 2022-03-18 15:58:11,714]\u001b[0m Trial 48 finished with value: 0.9369369369369369 and parameters: {'criterion': 'gini', 'n_estimators': 117, 'max_depth': 21, 'min_samples_split': 8, 'max_features': 'sqrt'}. Best is trial 44 with value: 0.9557522123893805.\u001b[0m\n",
            "\u001b[32m[I 2022-03-18 15:58:11,922]\u001b[0m Trial 49 finished with value: 0.9272727272727272 and parameters: {'criterion': 'entropy', 'n_estimators': 107, 'max_depth': 7, 'min_samples_split': 9, 'max_features': 'sqrt'}. Best is trial 44 with value: 0.9557522123893805.\u001b[0m\n",
            "\u001b[32m[I 2022-03-18 15:58:11,994]\u001b[0m Trial 50 finished with value: 0.9557522123893805 and parameters: {'criterion': 'gini', 'n_estimators': 34, 'max_depth': 23, 'min_samples_split': 9, 'max_features': 'log2'}. Best is trial 44 with value: 0.9557522123893805.\u001b[0m\n",
            "\u001b[32m[I 2022-03-18 15:58:12,057]\u001b[0m Trial 51 finished with value: 0.9464285714285714 and parameters: {'criterion': 'entropy', 'n_estimators': 28, 'max_depth': 5, 'min_samples_split': 10, 'max_features': 'log2'}. Best is trial 44 with value: 0.9557522123893805.\u001b[0m\n",
            "\u001b[32m[I 2022-03-18 15:58:12,108]\u001b[0m Trial 52 finished with value: 0.9464285714285714 and parameters: {'criterion': 'entropy', 'n_estimators': 22, 'max_depth': 5, 'min_samples_split': 10, 'max_features': 'log2'}. Best is trial 44 with value: 0.9557522123893805.\u001b[0m\n",
            "\u001b[32m[I 2022-03-18 15:58:12,168]\u001b[0m Trial 53 finished with value: 0.9464285714285714 and parameters: {'criterion': 'entropy', 'n_estimators': 26, 'max_depth': 5, 'min_samples_split': 10, 'max_features': 'log2'}. Best is trial 44 with value: 0.9557522123893805.\u001b[0m\n",
            "\u001b[32m[I 2022-03-18 15:58:12,241]\u001b[0m Trial 54 finished with value: 0.9464285714285714 and parameters: {'criterion': 'entropy', 'n_estimators': 31, 'max_depth': 7, 'min_samples_split': 10, 'max_features': 'log2'}. Best is trial 44 with value: 0.9557522123893805.\u001b[0m\n",
            "\u001b[32m[I 2022-03-18 15:58:12,343]\u001b[0m Trial 55 finished with value: 0.9369369369369369 and parameters: {'criterion': 'entropy', 'n_estimators': 50, 'max_depth': 7, 'min_samples_split': 9, 'max_features': 'log2'}. Best is trial 44 with value: 0.9557522123893805.\u001b[0m\n",
            "\u001b[32m[I 2022-03-18 15:58:12,403]\u001b[0m Trial 56 finished with value: 0.9464285714285714 and parameters: {'criterion': 'entropy', 'n_estimators': 27, 'max_depth': 7, 'min_samples_split': 10, 'max_features': 'log2'}. Best is trial 44 with value: 0.9557522123893805.\u001b[0m\n",
            "\u001b[32m[I 2022-03-18 15:58:12,537]\u001b[0m Trial 57 finished with value: 0.9369369369369369 and parameters: {'criterion': 'entropy', 'n_estimators': 69, 'max_depth': 7, 'min_samples_split': 10, 'max_features': 'log2'}. Best is trial 44 with value: 0.9557522123893805.\u001b[0m\n",
            "\u001b[32m[I 2022-03-18 15:58:12,945]\u001b[0m Trial 58 finished with value: 0.9272727272727272 and parameters: {'criterion': 'entropy', 'n_estimators': 213, 'max_depth': 9, 'min_samples_split': 9, 'max_features': 'log2'}. Best is trial 44 with value: 0.9557522123893805.\u001b[0m\n",
            "\u001b[32m[I 2022-03-18 15:58:13,124]\u001b[0m Trial 59 finished with value: 0.9272727272727272 and parameters: {'criterion': 'entropy', 'n_estimators': 98, 'max_depth': 11, 'min_samples_split': 9, 'max_features': 'log2'}. Best is trial 44 with value: 0.9557522123893805.\u001b[0m\n",
            "\u001b[32m[I 2022-03-18 15:58:13,145]\u001b[0m Trial 60 finished with value: 0.9369369369369369 and parameters: {'criterion': 'gini', 'n_estimators': 3, 'max_depth': 19, 'min_samples_split': 9, 'max_features': 'log2'}. Best is trial 44 with value: 0.9557522123893805.\u001b[0m\n",
            "\u001b[32m[I 2022-03-18 15:58:13,199]\u001b[0m Trial 61 finished with value: 0.9464285714285714 and parameters: {'criterion': 'entropy', 'n_estimators': 23, 'max_depth': 6, 'min_samples_split': 10, 'max_features': 'log2'}. Best is trial 44 with value: 0.9557522123893805.\u001b[0m\n",
            "\u001b[32m[I 2022-03-18 15:58:13,333]\u001b[0m Trial 62 finished with value: 0.9464285714285714 and parameters: {'criterion': 'gini', 'n_estimators': 72, 'max_depth': 21, 'min_samples_split': 8, 'max_features': 'sqrt'}. Best is trial 44 with value: 0.9557522123893805.\u001b[0m\n",
            "\u001b[32m[I 2022-03-18 15:58:13,464]\u001b[0m Trial 63 finished with value: 0.9464285714285714 and parameters: {'criterion': 'gini', 'n_estimators': 69, 'max_depth': 25, 'min_samples_split': 8, 'max_features': 'sqrt'}. Best is trial 44 with value: 0.9557522123893805.\u001b[0m\n",
            "\u001b[32m[I 2022-03-18 15:58:13,616]\u001b[0m Trial 64 finished with value: 0.9464285714285714 and parameters: {'criterion': 'gini', 'n_estimators': 78, 'max_depth': 25, 'min_samples_split': 8, 'max_features': 'sqrt'}. Best is trial 44 with value: 0.9557522123893805.\u001b[0m\n",
            "\u001b[32m[I 2022-03-18 15:58:13,835]\u001b[0m Trial 65 finished with value: 0.9369369369369369 and parameters: {'criterion': 'gini', 'n_estimators': 121, 'max_depth': 24, 'min_samples_split': 9, 'max_features': 'sqrt'}. Best is trial 44 with value: 0.9557522123893805.\u001b[0m\n",
            "\u001b[32m[I 2022-03-18 15:58:13,877]\u001b[0m Trial 66 finished with value: 0.9557522123893805 and parameters: {'criterion': 'gini', 'n_estimators': 16, 'max_depth': 8, 'min_samples_split': 9, 'max_features': 'log2'}. Best is trial 44 with value: 0.9557522123893805.\u001b[0m\n",
            "\u001b[32m[I 2022-03-18 15:58:13,964]\u001b[0m Trial 67 finished with value: 0.9464285714285714 and parameters: {'criterion': 'entropy', 'n_estimators': 37, 'max_depth': 6, 'min_samples_split': 9, 'max_features': 'log2'}. Best is trial 44 with value: 0.9557522123893805.\u001b[0m\n",
            "\u001b[32m[I 2022-03-18 15:58:14,147]\u001b[0m Trial 68 finished with value: 0.9557522123893805 and parameters: {'criterion': 'gini', 'n_estimators': 102, 'max_depth': 9, 'min_samples_split': 9, 'max_features': 'sqrt'}. Best is trial 44 with value: 0.9557522123893805.\u001b[0m\n",
            "\u001b[32m[I 2022-03-18 15:58:14,239]\u001b[0m Trial 69 finished with value: 0.9464285714285714 and parameters: {'criterion': 'entropy', 'n_estimators': 44, 'max_depth': 5, 'min_samples_split': 10, 'max_features': 'log2'}. Best is trial 44 with value: 0.9557522123893805.\u001b[0m\n",
            "\u001b[32m[I 2022-03-18 15:58:14,327]\u001b[0m Trial 70 finished with value: 0.9464285714285714 and parameters: {'criterion': 'gini', 'n_estimators': 44, 'max_depth': 8, 'min_samples_split': 9, 'max_features': 'log2'}. Best is trial 44 with value: 0.9557522123893805.\u001b[0m\n",
            "\u001b[32m[I 2022-03-18 15:58:14,503]\u001b[0m Trial 71 finished with value: 0.9557522123893805 and parameters: {'criterion': 'gini', 'n_estimators': 95, 'max_depth': 8, 'min_samples_split': 9, 'max_features': 'log2'}. Best is trial 44 with value: 0.9557522123893805.\u001b[0m\n",
            "\u001b[32m[I 2022-03-18 15:58:14,769]\u001b[0m Trial 72 finished with value: 0.9464285714285714 and parameters: {'criterion': 'gini', 'n_estimators': 153, 'max_depth': 11, 'min_samples_split': 9, 'max_features': 'sqrt'}. Best is trial 44 with value: 0.9557522123893805.\u001b[0m\n",
            "\u001b[32m[I 2022-03-18 15:58:14,956]\u001b[0m Trial 73 finished with value: 0.9464285714285714 and parameters: {'criterion': 'gini', 'n_estimators': 102, 'max_depth': 8, 'min_samples_split': 10, 'max_features': 'log2'}. Best is trial 44 with value: 0.9557522123893805.\u001b[0m\n",
            "\u001b[32m[I 2022-03-18 15:58:15,216]\u001b[0m Trial 74 finished with value: 0.9464285714285714 and parameters: {'criterion': 'gini', 'n_estimators': 139, 'max_depth': 10, 'min_samples_split': 9, 'max_features': 'sqrt'}. Best is trial 44 with value: 0.9557522123893805.\u001b[0m\n",
            "\u001b[32m[I 2022-03-18 15:58:15,453]\u001b[0m Trial 75 finished with value: 0.9464285714285714 and parameters: {'criterion': 'gini', 'n_estimators': 135, 'max_depth': 10, 'min_samples_split': 9, 'max_features': 'sqrt'}. Best is trial 44 with value: 0.9557522123893805.\u001b[0m\n",
            "\u001b[32m[I 2022-03-18 15:58:15,684]\u001b[0m Trial 76 finished with value: 0.9369369369369369 and parameters: {'criterion': 'gini', 'n_estimators': 129, 'max_depth': 12, 'min_samples_split': 9, 'max_features': 'sqrt'}. Best is trial 44 with value: 0.9557522123893805.\u001b[0m\n",
            "\u001b[32m[I 2022-03-18 15:58:16,051]\u001b[0m Trial 77 finished with value: 0.9369369369369369 and parameters: {'criterion': 'gini', 'n_estimators': 201, 'max_depth': 8, 'min_samples_split': 10, 'max_features': 'log2'}. Best is trial 44 with value: 0.9557522123893805.\u001b[0m\n",
            "\u001b[32m[I 2022-03-18 15:58:16,098]\u001b[0m Trial 78 finished with value: 0.9557522123893805 and parameters: {'criterion': 'gini', 'n_estimators': 18, 'max_depth': 9, 'min_samples_split': 8, 'max_features': 'log2'}. Best is trial 44 with value: 0.9557522123893805.\u001b[0m\n",
            "\u001b[32m[I 2022-03-18 15:58:16,136]\u001b[0m Trial 79 finished with value: 0.9464285714285714 and parameters: {'criterion': 'gini', 'n_estimators': 12, 'max_depth': 9, 'min_samples_split': 10, 'max_features': 'log2'}. Best is trial 44 with value: 0.9557522123893805.\u001b[0m\n",
            "\u001b[32m[I 2022-03-18 15:58:16,175]\u001b[0m Trial 80 finished with value: 0.9391304347826087 and parameters: {'criterion': 'gini', 'n_estimators': 12, 'max_depth': 9, 'min_samples_split': 8, 'max_features': 'log2'}. Best is trial 44 with value: 0.9557522123893805.\u001b[0m\n",
            "\u001b[32m[I 2022-03-18 15:58:16,243]\u001b[0m Trial 81 finished with value: 0.9464285714285714 and parameters: {'criterion': 'entropy', 'n_estimators': 30, 'max_depth': 7, 'min_samples_split': 10, 'max_features': 'log2'}. Best is trial 44 with value: 0.9557522123893805.\u001b[0m\n",
            "\u001b[32m[I 2022-03-18 15:58:16,356]\u001b[0m Trial 82 finished with value: 0.9369369369369369 and parameters: {'criterion': 'entropy', 'n_estimators': 57, 'max_depth': 6, 'min_samples_split': 10, 'max_features': 'log2'}. Best is trial 44 with value: 0.9557522123893805.\u001b[0m\n",
            "\u001b[32m[I 2022-03-18 15:58:16,524]\u001b[0m Trial 83 finished with value: 0.9369369369369369 and parameters: {'criterion': 'entropy', 'n_estimators': 93, 'max_depth': 6, 'min_samples_split': 10, 'max_features': 'log2'}. Best is trial 44 with value: 0.9557522123893805.\u001b[0m\n",
            "\u001b[32m[I 2022-03-18 15:58:16,608]\u001b[0m Trial 84 finished with value: 0.9464285714285714 and parameters: {'criterion': 'entropy', 'n_estimators': 38, 'max_depth': 6, 'min_samples_split': 9, 'max_features': 'log2'}. Best is trial 44 with value: 0.9557522123893805.\u001b[0m\n",
            "\u001b[32m[I 2022-03-18 15:58:16,745]\u001b[0m Trial 85 finished with value: 0.9369369369369369 and parameters: {'criterion': 'gini', 'n_estimators': 73, 'max_depth': 8, 'min_samples_split': 8, 'max_features': 'log2'}. Best is trial 44 with value: 0.9557522123893805.\u001b[0m\n",
            "\u001b[32m[I 2022-03-18 15:58:16,851]\u001b[0m Trial 86 finished with value: 0.9464285714285714 and parameters: {'criterion': 'gini', 'n_estimators': 51, 'max_depth': 25, 'min_samples_split': 7, 'max_features': 'sqrt'}. Best is trial 44 with value: 0.9557522123893805.\u001b[0m\n",
            "\u001b[32m[I 2022-03-18 15:58:16,899]\u001b[0m Trial 87 finished with value: 0.9557522123893805 and parameters: {'criterion': 'gini', 'n_estimators': 17, 'max_depth': 9, 'min_samples_split': 8, 'max_features': 'log2'}. Best is trial 44 with value: 0.9557522123893805.\u001b[0m\n",
            "\u001b[32m[I 2022-03-18 15:58:16,944]\u001b[0m Trial 88 finished with value: 0.9557522123893805 and parameters: {'criterion': 'gini', 'n_estimators': 17, 'max_depth': 9, 'min_samples_split': 9, 'max_features': 'log2'}. Best is trial 44 with value: 0.9557522123893805.\u001b[0m\n",
            "\u001b[32m[I 2022-03-18 15:58:17,367]\u001b[0m Trial 89 finished with value: 0.9369369369369369 and parameters: {'criterion': 'gini', 'n_estimators': 242, 'max_depth': 9, 'min_samples_split': 8, 'max_features': 'log2'}. Best is trial 44 with value: 0.9557522123893805.\u001b[0m\n",
            "\u001b[32m[I 2022-03-18 15:58:17,410]\u001b[0m Trial 90 finished with value: 0.9473684210526316 and parameters: {'criterion': 'gini', 'n_estimators': 14, 'max_depth': 11, 'min_samples_split': 7, 'max_features': 'log2'}. Best is trial 44 with value: 0.9557522123893805.\u001b[0m\n",
            "\u001b[32m[I 2022-03-18 15:58:17,452]\u001b[0m Trial 91 finished with value: 0.9557522123893805 and parameters: {'criterion': 'gini', 'n_estimators': 16, 'max_depth': 10, 'min_samples_split': 9, 'max_features': 'log2'}. Best is trial 44 with value: 0.9557522123893805.\u001b[0m\n",
            "\u001b[32m[I 2022-03-18 15:58:17,496]\u001b[0m Trial 92 finished with value: 0.9557522123893805 and parameters: {'criterion': 'gini', 'n_estimators': 16, 'max_depth': 11, 'min_samples_split': 9, 'max_features': 'log2'}. Best is trial 44 with value: 0.9557522123893805.\u001b[0m\n",
            "\u001b[32m[I 2022-03-18 15:58:17,545]\u001b[0m Trial 93 finished with value: 0.9557522123893805 and parameters: {'criterion': 'gini', 'n_estimators': 18, 'max_depth': 12, 'min_samples_split': 9, 'max_features': 'log2'}. Best is trial 44 with value: 0.9557522123893805.\u001b[0m\n",
            "\u001b[32m[I 2022-03-18 15:58:17,589]\u001b[0m Trial 94 finished with value: 0.9391304347826087 and parameters: {'criterion': 'gini', 'n_estimators': 13, 'max_depth': 12, 'min_samples_split': 9, 'max_features': 'log2'}. Best is trial 44 with value: 0.9557522123893805.\u001b[0m\n",
            "\u001b[32m[I 2022-03-18 15:58:17,713]\u001b[0m Trial 95 finished with value: 0.9557522123893805 and parameters: {'criterion': 'gini', 'n_estimators': 61, 'max_depth': 9, 'min_samples_split': 9, 'max_features': 'log2'}. Best is trial 44 with value: 0.9557522123893805.\u001b[0m\n",
            "\u001b[32m[I 2022-03-18 15:58:17,834]\u001b[0m Trial 96 finished with value: 0.9272727272727272 and parameters: {'criterion': 'gini', 'n_estimators': 61, 'max_depth': 10, 'min_samples_split': 8, 'max_features': 'log2'}. Best is trial 44 with value: 0.9557522123893805.\u001b[0m\n",
            "\u001b[32m[I 2022-03-18 15:58:17,857]\u001b[0m Trial 97 finished with value: 0.9380530973451328 and parameters: {'criterion': 'gini', 'n_estimators': 4, 'max_depth': 10, 'min_samples_split': 9, 'max_features': 'log2'}. Best is trial 44 with value: 0.9557522123893805.\u001b[0m\n",
            "\u001b[32m[I 2022-03-18 15:58:17,942]\u001b[0m Trial 98 finished with value: 0.9464285714285714 and parameters: {'criterion': 'gini', 'n_estimators': 38, 'max_depth': 9, 'min_samples_split': 8, 'max_features': 'log2'}. Best is trial 44 with value: 0.9557522123893805.\u001b[0m\n",
            "\u001b[32m[I 2022-03-18 15:58:18,099]\u001b[0m Trial 99 finished with value: 0.9464285714285714 and parameters: {'criterion': 'gini', 'n_estimators': 82, 'max_depth': 12, 'min_samples_split': 9, 'max_features': 'log2'}. Best is trial 44 with value: 0.9557522123893805.\u001b[0m\n"
          ]
        }
      ]
    },
    {
      "cell_type": "code",
      "source": [
        "#@title Results\n",
        "scores = np.array([[f1_random, f1_bayes, f1_optuna]])\n",
        "result = pd.DataFrame(data = scores,\n",
        "                      columns = ['Random', 'Bayes', 'Optuna'],\n",
        "                      index = ['Random Forest'])\n",
        "result.style"
      ],
      "metadata": {
        "colab": {
          "base_uri": "https://localhost:8080/",
          "height": 81
        },
        "cellView": "form",
        "id": "H2rmTDzms8lw",
        "outputId": "dcfa457c-bbd4-447f-df9a-728c385247d8"
      },
      "execution_count": 10,
      "outputs": [
        {
          "output_type": "execute_result",
          "data": {
            "text/plain": [
              "<pandas.io.formats.style.Styler at 0x7f2fa12c7790>"
            ],
            "text/html": [
              "<style type=\"text/css\">\n",
              "</style>\n",
              "<table id=\"T_f4fa8_\" class=\"dataframe\">\n",
              "  <thead>\n",
              "    <tr>\n",
              "      <th class=\"blank level0\" >&nbsp;</th>\n",
              "      <th class=\"col_heading level0 col0\" >Random</th>\n",
              "      <th class=\"col_heading level0 col1\" >Bayes</th>\n",
              "      <th class=\"col_heading level0 col2\" >Optuna</th>\n",
              "    </tr>\n",
              "  </thead>\n",
              "  <tbody>\n",
              "    <tr>\n",
              "      <th id=\"T_f4fa8_level0_row0\" class=\"row_heading level0 row0\" >Random Forest</th>\n",
              "      <td id=\"T_f4fa8_row0_col0\" class=\"data row0 col0\" >0.9273</td>\n",
              "      <td id=\"T_f4fa8_row0_col1\" class=\"data row0 col1\" >0.9369</td>\n",
              "      <td id=\"T_f4fa8_row0_col2\" class=\"data row0 col2\" >0.9558</td>\n",
              "    </tr>\n",
              "  </tbody>\n",
              "</table>\n"
            ]
          },
          "metadata": {},
          "execution_count": 10
        }
      ]
    }
  ]
}